{
 "cells": [
  {
   "cell_type": "code",
   "execution_count": 1,
   "id": "246bd094-8cbb-4ab3-8b39-b8ea0ff160f4",
   "metadata": {},
   "outputs": [],
   "source": [
    "def string_to_symbol_list(string):\n",
    "    last_symbol = 0\n",
    "    symbol_list = []\n",
    "    char_to_symbol_dict = {}\n",
    "\n",
    "    for x in string:\n",
    "        if x not in char_to_symbol_dict:\n",
    "            char_to_symbol_dict[x] = last_symbol\n",
    "            last_symbol += 1\n",
    "        symbol_list.append(char_to_symbol_dict[x])\n",
    "    \n",
    "    return (symbol_list, char_to_symbol_dict)"
   ]
  },
  {
   "cell_type": "code",
   "execution_count": 74,
   "id": "f03fe93b-9d61-4122-9449-db7965b9f8c1",
   "metadata": {},
   "outputs": [],
   "source": [
    "class KTupleInfo:\n",
    "    def __init__(self):\n",
    "        self.count = 0\n",
    "        self.last = -1\n",
    "        self.pos_in_queue = -1\n",
    "\n",
    "    def __repr__(self):\n",
    "        return f\"KTupleInfo(count={self.count}, last={self.last}, pos_in_queue={self.pos_in_queue})\"\n",
    "\n",
    "\n",
    "class SequenceElement:\n",
    "    def __init__(self):\n",
    "        self.symbol = None\n",
    "        self.next = -1\n",
    "        self.prev = -1\n",
    "        self.prev_k_tuple = -1\n",
    "\n",
    "    def __repr__(self):\n",
    "        return (f\"SequenceElement(symbol={self.symbol}, next={self.next}, \"\n",
    "                f\"prev={self.prev}, prev_k_tuple={self.prev_k_tuple})\")\n",
    "\n",
    "\n",
    "def construct_active_k_tuples_and_sequence(symbol_list, k):\n",
    "    active_k_tuples = {}\n",
    "    sequence = []\n",
    "\n",
    "    for i in range(k - 1):\n",
    "        elem = SequenceElement()\n",
    "        elem.symbol = symbol_list[i]\n",
    "        elem.next = i + 1\n",
    "        elem.prev = i - 1\n",
    "        sequence.append(elem)\n",
    "\n",
    "    for i in range(k - 1, len(symbol_list)):\n",
    "        k_tuple = tuple(symbol_list[i - k + 1:i + 1])\n",
    "        if k_tuple not in active_k_tuples:\n",
    "            info = KTupleInfo()\n",
    "            info.count = 1\n",
    "            info.last = i\n",
    "            active_k_tuples[k_tuple] = info\n",
    "\n",
    "            elem = SequenceElement()\n",
    "            elem.symbol = symbol_list[i]\n",
    "            elem.next = i + 1\n",
    "            elem.prev = i - 1\n",
    "            sequence.append(elem)\n",
    "        else:\n",
    "            prev_index = active_k_tuples[k_tuple].last\n",
    "            active_k_tuples[k_tuple].count += 1\n",
    "            active_k_tuples[k_tuple].last = i\n",
    "\n",
    "            elem = SequenceElement()\n",
    "            elem.symbol = symbol_list[i]\n",
    "            elem.next = i + 1\n",
    "            elem.prev = i - 1\n",
    "            elem.prev_k_tuple = prev_index\n",
    "            sequence.append(elem)\n",
    "\n",
    "    sequence[-1].next = -1\n",
    "\n",
    "    return sequence, active_k_tuples\n"
   ]
  },
  {
   "cell_type": "code",
   "execution_count": 75,
   "id": "650c1eda-9d68-4365-9d9e-a97772aa7feb",
   "metadata": {},
   "outputs": [],
   "source": [
    "# we use a dict based on priorities to manage priority queue\n",
    "# no use for bothering with heapq\n",
    "\n",
    "def construct_priority_queue(active_k_tuples):\n",
    "    priority_queue = {}\n",
    "    \n",
    "    for k, v in active_k_tuples.items():\n",
    "        if v.count not in priority_queue:\n",
    "            priority_queue[v.count] = []\n",
    "        v.pos_in_queue = len(priority_queue[v.count])\n",
    "        priority_queue[v.count].append(k)\n",
    "        \n",
    "    return priority_queue"
   ]
  },
  {
   "cell_type": "code",
   "execution_count": 83,
   "id": "365c4728-ae43-4c64-8eda-af3c69882d72",
   "metadata": {},
   "outputs": [],
   "source": [
    "def replace_active_k_tuple(priority_queue, active_k_tuples, sequence, k_tuple, new_symbol,k):\n",
    "    #works only for k=2\n",
    "    #then need to come up with way to replace all the deleted tuples\n",
    "    \n",
    "    changed_k_tuples = {}\n",
    "\n",
    "    last = sequence[active_k_tuples[k_tuple].last]\n",
    "    first = sequence[last.prev]\n",
    "\n",
    "    prev_k_tuple = last.prev_k_tuple\n",
    "    node_to_link = first.next #so the position of last; position of pair is stored in its last symbol\n",
    "\n",
    "    #update pairs\n",
    "    if first.prev != -1:\n",
    "        #if it is not the leftmost pair in the sequence \n",
    "\n",
    "        pair_pos = last.prev #so the position of first; position of pair is stored in its last symbol \n",
    "        prev_symbol = sequence[sequence[first].prev]\n",
    "        prev_pair = (prev_symbol.symbol, first.symbol)\n",
    "        new_prev_pair = (prev_symbol.symbol, new_symbol)\n",
    "\n",
    "        if new_prev_pair not in changed_k_tuples:\n",
    "            #first such pair to change\n",
    "            \n",
    "            changed_k_tuples[new_prev_pair] = KTupleInfo()\n",
    "            changed_k_tuples[new_prev_pair].count = 1\n",
    "            changed_k_tuples[new_prev_pair].last = pair_pos\n",
    "\n",
    "            last.prev_k_tuple = -1\n",
    "        else:\n",
    "            changed_k_tuples[new_prev_pair].count += 1\n",
    "            sequence[pair_pos].prev_k_tuple = changed_k_tuples[new_prev_pair].last\n",
    "            changed_k_tuples[new_prev_pair].last = pair_pos\n",
    "\n",
    "        #technically the first to be inserted never is \n",
    "        if prev_pair not in changed_k_tuples:\n",
    "            changed_k_tuples[prev_pair] = active_k_tuples[prev_pair]\n",
    "        changed_k_tuples[prev_pair].count -= 1\n",
    "\n",
    "    if last.next != -1:\n",
    "        \n",
    "        pair_pos = first.next #so the position of last; position of pair is stored in its last symbol \n",
    "        next_symbol = sequence[sequence[last].next]\n",
    "        next_pair = (last.symbol, next_symbol.symbol) \n",
    "        new_next_pair = (new_symbol, next_symbol.symbol) \n",
    "        \n",
    "        if new_next_pair not in changed_k_tuples:\n",
    "            changed_k_tuples[new_next_pair] = KTupleInfo()\n",
    "            changed_k_tuples[new_next_pair].count = 1\n",
    "            changed_k_tuples[new_next_pair].last = pair_pos\n",
    "            last.prev_k_tuple = -1\n",
    "        else:\n",
    "            changed_k_tuples[new_next_pair].count +=1\n",
    "            sequence[pair_pos].prev_k_tuple = changed_k_tuples[new_next_pair].last\n",
    "            changed_k_tuples[new_next_pair].last = pair_pos\n",
    "            \n",
    "        if next_pair not in changed_k_tuples:\n",
    "            changed_k_tuples[next_pair] = active_k_tuples[next_pair]\n",
    "        changed_k_tuples[next_pair].count -= 1\n",
    "\n",
    "    while last.prev_k_tuple != -1:\n",
    "        last = sequence[last.prev_k_tuple]\n",
    "\n",
    "    #REPLACE SYMBOLS! TAKE CARE OF POINTERS!"
   ]
  },
  {
   "cell_type": "markdown",
   "id": "e642a2bb-7aee-4732-a59e-76070df6bb5e",
   "metadata": {},
   "source": [
    "# tests"
   ]
  },
  {
   "cell_type": "code",
   "execution_count": 77,
   "id": "e9d26957-cd31-4043-bb20-1701db617a83",
   "metadata": {},
   "outputs": [
    {
     "data": {
      "text/plain": [
       "([0, 1, 0, 2, 3, 0, 2, 4, 5, 6, 0],\n",
       " {'a': 0, 'l': 1, ' ': 2, 'm': 3, 'k': 4, 'o': 5, 't': 6})"
      ]
     },
     "execution_count": 77,
     "metadata": {},
     "output_type": "execute_result"
    }
   ],
   "source": [
    "string_to_symbol_list(\"ala ma kota\")"
   ]
  },
  {
   "cell_type": "code",
   "execution_count": 78,
   "id": "a2660125-b667-436a-8d2d-1c6ae9b4b5ba",
   "metadata": {},
   "outputs": [
    {
     "data": {
      "text/plain": [
       "([SequenceElement(symbol=0, next=1, prev=-1, prev_k_tuple=-1),\n",
       "  SequenceElement(symbol=1, next=2, prev=0, prev_k_tuple=-1),\n",
       "  SequenceElement(symbol=0, next=3, prev=1, prev_k_tuple=-1),\n",
       "  SequenceElement(symbol=1, next=-1, prev=2, prev_k_tuple=1)],\n",
       " {(0, 1): KTupleInfo(count=2, last=3, pos_in_queue=-1),\n",
       "  (1, 0): KTupleInfo(count=1, last=2, pos_in_queue=-1)})"
      ]
     },
     "execution_count": 78,
     "metadata": {},
     "output_type": "execute_result"
    }
   ],
   "source": [
    "construct_active_k_tuples_and_sequence(string_to_symbol_list(\"0101\")[0], 2)"
   ]
  },
  {
   "cell_type": "code",
   "execution_count": 79,
   "id": "6398525c-56ab-401c-a81b-ea0826b73846",
   "metadata": {},
   "outputs": [
    {
     "data": {
      "text/plain": [
       "([SequenceElement(symbol=0, next=1, prev=-1, prev_k_tuple=-1),\n",
       "  SequenceElement(symbol=0, next=2, prev=0, prev_k_tuple=-1),\n",
       "  SequenceElement(symbol=0, next=3, prev=1, prev_k_tuple=1),\n",
       "  SequenceElement(symbol=0, next=-1, prev=2, prev_k_tuple=2)],\n",
       " {(0, 0): KTupleInfo(count=3, last=3, pos_in_queue=-1)})"
      ]
     },
     "execution_count": 79,
     "metadata": {},
     "output_type": "execute_result"
    }
   ],
   "source": [
    "construct_active_k_tuples_and_sequence(string_to_symbol_list(\"0000\")[0], 2)"
   ]
  },
  {
   "cell_type": "code",
   "execution_count": 80,
   "id": "67f0063e-121e-488a-a756-deb409219191",
   "metadata": {
    "scrolled": true
   },
   "outputs": [
    {
     "data": {
      "text/plain": [
       "([SequenceElement(symbol=0, next=1, prev=-1, prev_k_tuple=-1),\n",
       "  SequenceElement(symbol=1, next=2, prev=0, prev_k_tuple=-1),\n",
       "  SequenceElement(symbol=2, next=3, prev=1, prev_k_tuple=-1),\n",
       "  SequenceElement(symbol=0, next=4, prev=2, prev_k_tuple=-1),\n",
       "  SequenceElement(symbol=1, next=5, prev=3, prev_k_tuple=1),\n",
       "  SequenceElement(symbol=2, next=-1, prev=4, prev_k_tuple=2)],\n",
       " {(0, 1): KTupleInfo(count=2, last=4, pos_in_queue=-1),\n",
       "  (1, 2): KTupleInfo(count=2, last=5, pos_in_queue=-1),\n",
       "  (2, 0): KTupleInfo(count=1, last=3, pos_in_queue=-1)})"
      ]
     },
     "execution_count": 80,
     "metadata": {},
     "output_type": "execute_result"
    }
   ],
   "source": [
    "construct_active_k_tuples_and_sequence(string_to_symbol_list(\"012012\")[0], 2)"
   ]
  },
  {
   "cell_type": "code",
   "execution_count": 81,
   "id": "bf8c6398-58a4-4dbd-8bf8-3ae94630a6ff",
   "metadata": {},
   "outputs": [],
   "source": [
    "from pprint import pprint"
   ]
  },
  {
   "cell_type": "code",
   "execution_count": 82,
   "id": "4ce0f069-ab0d-49a1-a1b6-d25670e23562",
   "metadata": {},
   "outputs": [
    {
     "name": "stdout",
     "output_type": "stream",
     "text": [
      "'active_k_tuples before'\n",
      "{(0, 1): KTupleInfo(count=2, last=4, pos_in_queue=-1),\n",
      " (1, 2): KTupleInfo(count=2, last=5, pos_in_queue=-1),\n",
      " (2, 0): KTupleInfo(count=1, last=3, pos_in_queue=-1)}\n",
      "'active_k_tuples after'\n",
      "{(0, 1): KTupleInfo(count=2, last=4, pos_in_queue=0),\n",
      " (1, 2): KTupleInfo(count=2, last=5, pos_in_queue=1),\n",
      " (2, 0): KTupleInfo(count=1, last=3, pos_in_queue=0)}\n",
      "'priority queue'\n",
      "{1: [(2, 0)], 2: [(0, 1), (1, 2)]}\n"
     ]
    }
   ],
   "source": [
    "sequence, active_k_tuples = construct_active_k_tuples_and_sequence(string_to_symbol_list(\"012012\")[0], 2)\n",
    "pprint(\"active_k_tuples before\")\n",
    "pprint(active_k_tuples)\n",
    "priority_queue = construct_priority_queue(active_k_tuples)\n",
    "pprint(\"active_k_tuples after\")\n",
    "pprint(active_k_tuples)\n",
    "pprint(\"priority queue\")\n",
    "pprint(priority_queue)"
   ]
  },
  {
   "cell_type": "code",
   "execution_count": null,
   "id": "818515e7-23be-414d-bc08-95778c731f3e",
   "metadata": {},
   "outputs": [],
   "source": []
  }
 ],
 "metadata": {
  "kernelspec": {
   "display_name": "Python 3 (ipykernel)",
   "language": "python",
   "name": "python3"
  },
  "language_info": {
   "codemirror_mode": {
    "name": "ipython",
    "version": 3
   },
   "file_extension": ".py",
   "mimetype": "text/x-python",
   "name": "python",
   "nbconvert_exporter": "python",
   "pygments_lexer": "ipython3",
   "version": "3.12.3"
  }
 },
 "nbformat": 4,
 "nbformat_minor": 5
}
