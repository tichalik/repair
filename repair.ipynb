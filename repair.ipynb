{
 "cells": [
  {
   "cell_type": "code",
   "execution_count": 1,
   "id": "b904bef4-b4c7-4993-8b67-6a308cf94715",
   "metadata": {},
   "outputs": [],
   "source": [
    "#!jupyter nbconvert --to='script' repair.ipynb"
   ]
  },
  {
   "cell_type": "code",
   "execution_count": 1,
   "id": "246bd094-8cbb-4ab3-8b39-b8ea0ff160f4",
   "metadata": {},
   "outputs": [],
   "source": [
    "def string_to_symbol_list(string):\n",
    "    last_symbol = 0\n",
    "    symbol_list = []\n",
    "    char_to_symbol_dict = {}\n",
    "\n",
    "    for x in string:\n",
    "        if x not in char_to_symbol_dict:\n",
    "            char_to_symbol_dict[x] = last_symbol\n",
    "            last_symbol += 1\n",
    "        symbol_list.append(char_to_symbol_dict[x])\n",
    "    \n",
    "    return (symbol_list, char_to_symbol_dict)"
   ]
  },
  {
   "cell_type": "code",
   "execution_count": 2,
   "id": "f03fe93b-9d61-4122-9449-db7965b9f8c1",
   "metadata": {},
   "outputs": [],
   "source": [
    "\n",
    "#assuming sequence goes left to right \n",
    "class KTupleInfo:\n",
    "    def __init__(self):\n",
    "        self.count = 0\n",
    "        self.last = -1      #the rightmost pair\n",
    "        self.first = -1     #the leftmost pair\n",
    "        self.pos_in_queue = -1\n",
    "\n",
    "    @classmethod\n",
    "    def print_dict(cls, items):\n",
    "        print(f\"{'Key':<6} {'Count':<6} {'Last':<6} {'PosInQueue':<12}\")\n",
    "        print(\"-\" * 32)\n",
    "        for i, item in items.items():\n",
    "            print(f\"{str(i):<6} {item.count:<6} {item.last:<6} {item.pos_in_queue:<12}\")\n",
    "\n",
    "    def __repr__(self):\n",
    "        return f\"KTupleInfo(count={self.count}, last={self.last}, pos_in_queue={self.pos_in_queue})\"\n",
    "\n",
    "\n",
    "class SequenceElement:\n",
    "    def __init__(self):\n",
    "        self.symbol = None\n",
    "        self.pos = -1\n",
    "        self.prev_k_tuple = -1\n",
    "        self.next_k_tuple = -1\n",
    "\n",
    "    @classmethod\n",
    "    def print_list(cls, items):\n",
    "        print(f\"{'Index':<6} {'Symbol':<10} {'Pos':<6} {'PrevKTuple':<12} {'NextKTuple':<12}\")\n",
    "        print(\"-\" * 50)\n",
    "        for i, item in enumerate(items):\n",
    "            print(f\"{str(i):<6} {str(item.symbol):<10} {item.pos:<6} {str(item.prev_k_tuple):<12} {str(item.next_k_tuple):<12}\")\n",
    "\n",
    "    def __repr__(self):\n",
    "        return (f\"SequenceElement(symbol={self.symbol}, prev_k_tuple={self.prev_k_tuple}, pos={self.pos}, \"\n",
    "                f\"next_k_tuple={self.next_k_tuple})\")\n",
    "\n",
    "\n",
    "\n",
    "\n",
    "def construct_active_k_tuples_and_sequence(symbol_list, k):\n",
    "    active_k_tuples = {}\n",
    "    sequence = []\n",
    "\n",
    "    for i in range(k - 1):\n",
    "        elem = SequenceElement()\n",
    "        elem.symbol = symbol_list[i]\n",
    "        elem.prev_k_tuple = -1\n",
    "        elem.pos = i\n",
    "        elem.next_k_tuple = -1\n",
    "        sequence.append(elem)\n",
    "\n",
    "    for i in range(k - 1, len(symbol_list)):\n",
    "        k_tuple = tuple(symbol_list[i - k + 1:i + 1])\n",
    "        if k_tuple not in active_k_tuples:\n",
    "            info = KTupleInfo()\n",
    "            info.count = 1\n",
    "            info.last = i\n",
    "            active_k_tuples[k_tuple] = info\n",
    "\n",
    "            elem = SequenceElement()\n",
    "            elem.symbol = symbol_list[i]\n",
    "            elem.prev_k_tuple = -1\n",
    "            elem.pos = i\n",
    "            elem.next_k_tuple = -1\n",
    "            sequence.append(elem)\n",
    "        else:\n",
    "            prev_index = active_k_tuples[k_tuple].last\n",
    "            active_k_tuples[k_tuple].count += 1\n",
    "            active_k_tuples[k_tuple].last = i\n",
    "\n",
    "            elem = SequenceElement()\n",
    "            elem.symbol = symbol_list[i]\n",
    "            elem.pos = i\n",
    "            elem.prev_k_tuple = prev_index\n",
    "            sequence[prev_index].next_k_tuple = i\n",
    "            sequence.append(elem)\n",
    "\n",
    "    return sequence, active_k_tuples\n"
   ]
  },
  {
   "cell_type": "code",
   "execution_count": 3,
   "id": "650c1eda-9d68-4365-9d9e-a97772aa7feb",
   "metadata": {},
   "outputs": [],
   "source": [
    "# we use a dict based on priorities to manage priority queue\n",
    "# no use for bothering with heapq\n",
    "\n",
    "def construct_priority_queue(active_k_tuples):\n",
    "    priority_queue = {}\n",
    "    \n",
    "    for k, v in active_k_tuples.items():\n",
    "        if v.count not in priority_queue:\n",
    "            priority_queue[v.count] = []\n",
    "        v.pos_in_queue = len(priority_queue[v.count])\n",
    "        priority_queue[v.count].append(k)\n",
    "        \n",
    "    return priority_queue"
   ]
  },
  {
   "cell_type": "code",
   "execution_count": 18,
   "id": "365c4728-ae43-4c64-8eda-af3c69882d72",
   "metadata": {
    "editable": true,
    "slideshow": {
     "slide_type": ""
    },
    "tags": []
   },
   "outputs": [],
   "source": [
    "\n",
    "def replace_active_k_tuple(priority_queue, active_k_tuples, sequence, k_tuple, new_symbol,k):\n",
    "    #works only for k=2\n",
    "    #then need to come up with way to replace all the deleted tuples\n",
    "\n",
    "    #NotASymbol\n",
    "    NAS = -1\n",
    "    def get_prev_index(node): \n",
    "        #return -1 if not found\n",
    "        if node.pos == 0:\n",
    "            return -1 \n",
    "        elif sequence[node.pos-1].symbol != NAS:\n",
    "            return node.pos-1\n",
    "        else:\n",
    "            return sequence[node.pos-1].prev_k_tuple\n",
    "\n",
    "    def get_next_index(node):\n",
    "        #return -1 if not found\n",
    "        if node.pos == len(sequence)-1:\n",
    "            return -1 \n",
    "        elif sequence[node.pos+1].symbol != NAS:\n",
    "            return node.pos+1\n",
    "        else:\n",
    "            return sequence[node.pos+1].next\n",
    "\n",
    "    # assumming sequence = ... A B C D ... \n",
    "    # where (B, C) is the pair to be replaced\n",
    "    # i_X means the index of X\n",
    "    \n",
    "    i_C = active_k_tuples[k_tuple].last\n",
    "    while i_C != -1:\n",
    "        #------------------replace single pair------------------\n",
    "        \n",
    "        C = sequence[i_C]\n",
    "        B = sequence[get_prev_index(C)]\n",
    "        \n",
    "        i_A = get_prev_index(B)\n",
    "        i_D = get_next_index(C)\n",
    "        \n",
    "        i_C = C.prev_k_tuple\n",
    "        \n",
    "        #update counts in active_k_tuples - decrement old\n",
    "        active_k_tuples[(B.symbol, C.symbol)].count -= 1\n",
    "        if i_A != -1:\n",
    "            active_k_tuples[(sequence[i_A].symbol, B.symbol)].count -=1\n",
    "        if i_D != -1:\n",
    "            active_k_tuples[(C.symbol, sequence[i_D].symbol)].count -=1\n",
    "            \n",
    "        #update counts in active_k_tuples - increment new\n",
    "        if i_A != -1:\n",
    "            if (sequence[i_A].symbol, new_symbol) not in active_k_tuples:\n",
    "                active_k_tuples[(sequence[i_A].symbol, new_symbol)] = KTupleInfo()\n",
    "            active_k_tuples[(sequence[i_A].symbol, new_symbol)].count +=1\n",
    "        if i_D != -1:\n",
    "            if (new_symbol, sequence[i_D].symbol) not in active_k_tuples:\n",
    "                active_k_tuples[(new_symbol, sequence[i_D].symbol)] = KTupleInfo()\n",
    "            active_k_tuples[(new_symbol, sequence[i_D].symbol)].count +=1\n",
    "        \n",
    "        \n",
    "        #update list beginnings in active_k_tuples for old pairs \n",
    "        active_k_tuples[(B.symbol, C.symbol)].last = C.prev_k_tuple\n",
    "        if i_A != -1:\n",
    "            if active_k_tuples[(sequence[i_A].symbol, B.symbol)].last == B.pos:                                         \n",
    "                #if this is the last A B in sequence:\n",
    "                active_k_tuples[(sequence[i_A].symbol, B.symbol)].last = B.prev_k_tuple\n",
    "        if i_D != -1:\n",
    "            if active_k_tuples[(C.symbol, sequence[i_D].symbol)].last == sequence[i_D].pos:\n",
    "                #if this is the last C D in sequence:\n",
    "                active_k_tuples[(C.symbol, sequence[i_D].symbol)].last = sequence[i_D].prev_k_tuple\n",
    "        \n",
    "        #update list beginnings in active_k_tuples for new pairs \n",
    "        #this can be done when inserting them into active_k_tuples - this is just dumb, unoptimized version\n",
    "        if i_A != -1:\n",
    "            if active_k_tuples[(sequence[i_A].symbol, new_symbol)].last  == -1:\n",
    "                active_k_tuples[(sequence[i_A].symbol, new_symbol)].last = C.pos\n",
    "        if i_D != -1:\n",
    "            if active_k_tuples[(new_symbol, sequence[i_D].symbol)].last  == -1:\n",
    "                active_k_tuples[(new_symbol, sequence[i_D].symbol)].last = sequence[i_D].pos\n",
    "            \n",
    "            \n",
    "        #update threading - old pairs\n",
    "        if C.prev_k_tuple != -1:\n",
    "            sequence[C.prev_k_tuple].next_k_tuple = -1\n",
    "        #there never is C.next_k_tuple\n",
    "        if i_A != -1:\n",
    "            if B.prev_k_tuple != -1:\n",
    "                sequence[B.prev_k_tuple].next_k_tuple = B.next_k_tuple\n",
    "            if B.next_k_tuple != -1:\n",
    "                sequence[B.next_k_tuple].prev_k_tuple = B.prev_k_tuple\n",
    "        if i_D != -1:\n",
    "            if sequence[i_D].prev_k_tuple != -1:\n",
    "                sequence[sequence[i_D].prev_k_tuple].next_k_tuple = sequence[i_D].next_k_tuple\n",
    "            if sequence[i_D].next_k_tuple != -1:\n",
    "                sequence[sequence[i_D].next_k_tuple].prev_k_tuple = sequence[i_D].prev_k_tuple\n",
    "            \n",
    "        #update threading - new pairs \n",
    "        if i_A != -1:\n",
    "            C.next_k_tuple = active_k_tuples[(sequence[i_A].symbol, new_symbol)].first\n",
    "        if i_D != -1:\n",
    "            sequence[i_D].next_k_tuple = active_k_tuples[(new_symbol, sequence[i_D].symbol)].first\n",
    "        C.prev_k_tuple = -1\n",
    "        sequence[i_D].prev_k_tuple = -1 \n",
    "        \n",
    "        #update positions of the first elements of the lists\n",
    "        if i_A != -1:\n",
    "            active_k_tuples[(sequence[i_A].symbol, new_symbol)].first = C.pos\n",
    "        if i_D != -1:\n",
    "            active_k_tuples[(new_symbol, sequence[i_D].symbol)].first = sequence[i_D].pos\n",
    "        #redundant - nobody cares about first element of the removed list \n",
    "        if active_k_tuples[(B.symbol, C.symbol)].first == C.pos:\n",
    "            active_k_tuples[(B.symbol, C.symbol)].first = -1\n",
    "\n",
    "        #manage empty spaces\n",
    "        if B.pos == 0:\n",
    "            pass # prev_k_tuple remains -1\n",
    "        elif sequence[B.pos-1].symbol != NAS:\n",
    "            B.prev_k_tuple = B.pos-1\n",
    "        else:\n",
    "            B.prev_k_tuple = sequence[B.pos-1].prev_k_tuple\n",
    "        if B.pos == len(sequence) -1:\n",
    "            pass # next_k_tuple remains -1\n",
    "        elif sequence[B.pos+1].symbol != NAS:\n",
    "            B.next_k_tuple = B.pos+1\n",
    "        else:\n",
    "            B.next_k_tuple = sequence[B.pos+1].next_k_tuple\n",
    "        \n",
    "        \n",
    "        #change symbols\n",
    "        B.symbol = NAS\n",
    "        C.symbol = new_symbol\n",
    "        \n",
    "        #FOR TESTING!!!! \n",
    "        break\n",
    "    \n",
    "    #update queues"
   ]
  },
  {
   "cell_type": "markdown",
   "id": "e642a2bb-7aee-4732-a59e-76070df6bb5e",
   "metadata": {},
   "source": [
    "# tests"
   ]
  },
  {
   "cell_type": "code",
   "execution_count": 19,
   "id": "245fccab-c7cc-461a-affe-4dec29803be7",
   "metadata": {},
   "outputs": [],
   "source": [
    "from pprint import pprint"
   ]
  },
  {
   "cell_type": "code",
   "execution_count": 20,
   "id": "818515e7-23be-414d-bc08-95778c731f3e",
   "metadata": {},
   "outputs": [],
   "source": [
    "def debug(string, k_tuple, new_symbol):\n",
    "    sequence, active_k_tuples = construct_active_k_tuples_and_sequence(string_to_symbol_list(string)[0], 2)\n",
    "    priority_queue = construct_priority_queue(active_k_tuples)\n",
    "    # print(\"-\"*32)\n",
    "    # print(\"active_k_tuples before\")\n",
    "    # print(\"-\"*32)\n",
    "    # KTupleInfo.print_dict(active_k_tuples)\n",
    "    # print(\"-\"*32)\n",
    "    # print(\"priority queue before\")\n",
    "    # print(\"-\"*32)\n",
    "    # print(priority_queue)\n",
    "    # print(\"-\"*32)\n",
    "    print(\"sequence before\")\n",
    "    print(\"-\"*32)\n",
    "    SequenceElement.print_list(sequence)\n",
    "    print(\"-\"*32)\n",
    "    \n",
    "    replace_active_k_tuple(priority_queue, active_k_tuples, sequence, k_tuple, new_symbol, 2)\n",
    "    \n",
    "    # print(\"-\"*32)\n",
    "    # print(\"active_k_tuples after\")\n",
    "    # print(\"-\"*32)\n",
    "    # KTupleInfo.print_dict(active_k_tuples)\n",
    "    # print(\"-\"*32)\n",
    "    # print(\"priority queue after\")\n",
    "    # print(\"-\"*32)\n",
    "    # print(priority_queue)\n",
    "    # print(\"-\"*32)\n",
    "    print(\"sequence after\")\n",
    "    print(\"-\"*32)\n",
    "    SequenceElement.print_list(sequence)\n",
    "    print(\"-\"*32)"
   ]
  },
  {
   "cell_type": "code",
   "execution_count": 21,
   "id": "3b792ace-a416-4c7d-a011-1e8e4a62829f",
   "metadata": {
    "editable": true,
    "slideshow": {
     "slide_type": ""
    },
    "tags": []
   },
   "outputs": [
    {
     "name": "stdout",
     "output_type": "stream",
     "text": [
      "sequence before\n",
      "--------------------------------\n",
      "Index  Symbol     Pos    PrevKTuple   NextKTuple  \n",
      "--------------------------------------------------\n",
      "0      0          0      -1           -1          \n",
      "1      1          1      -1           -1          \n",
      "--------------------------------\n",
      "sequence after\n",
      "--------------------------------\n",
      "Index  Symbol     Pos    PrevKTuple   NextKTuple  \n",
      "--------------------------------------------------\n",
      "0      -1         0      -1           1           \n",
      "1      3          1      -1           -1          \n",
      "--------------------------------\n"
     ]
    }
   ],
   "source": [
    "debug(\"01\", (0,1), 3)"
   ]
  },
  {
   "cell_type": "code",
   "execution_count": 22,
   "id": "50f86569-9008-4554-9f27-650211adcf74",
   "metadata": {
    "editable": true,
    "slideshow": {
     "slide_type": ""
    },
    "tags": []
   },
   "outputs": [
    {
     "name": "stdout",
     "output_type": "stream",
     "text": [
      "sequence before\n",
      "--------------------------------\n",
      "Index  Symbol     Pos    PrevKTuple   NextKTuple  \n",
      "--------------------------------------------------\n",
      "0      0          0      -1           -1          \n",
      "1      1          1      -1           3           \n",
      "2      0          2      -1           -1          \n",
      "3      1          3      1            -1          \n",
      "--------------------------------\n",
      "sequence after\n",
      "--------------------------------\n",
      "Index  Symbol     Pos    PrevKTuple   NextKTuple  \n",
      "--------------------------------------------------\n",
      "0      0          0      -1           -1          \n",
      "1      1          1      -1           -1          \n",
      "2      -1         2      1            3           \n",
      "3      3          3      -1           -1          \n",
      "--------------------------------\n"
     ]
    }
   ],
   "source": [
    "debug(\"0101\", (0,1), 3)"
   ]
  },
  {
   "cell_type": "code",
   "execution_count": 23,
   "id": "5255d00b-945e-4eb2-aa89-b449234fda7f",
   "metadata": {
    "editable": true,
    "slideshow": {
     "slide_type": ""
    },
    "tags": []
   },
   "outputs": [
    {
     "name": "stdout",
     "output_type": "stream",
     "text": [
      "sequence before\n",
      "--------------------------------\n",
      "Index  Symbol     Pos    PrevKTuple   NextKTuple  \n",
      "--------------------------------------------------\n",
      "0      0          0      -1           -1          \n",
      "1      1          1      -1           4           \n",
      "2      2          2      -1           -1          \n",
      "3      0          3      -1           -1          \n",
      "4      1          4      1            -1          \n",
      "--------------------------------\n",
      "sequence after\n",
      "--------------------------------\n",
      "Index  Symbol     Pos    PrevKTuple   NextKTuple  \n",
      "--------------------------------------------------\n",
      "0      0          0      -1           -1          \n",
      "1      1          1      -1           -1          \n",
      "2      2          2      -1           -1          \n",
      "3      -1         3      2            4           \n",
      "4      3          4      -1           -1          \n",
      "--------------------------------\n"
     ]
    }
   ],
   "source": [
    "debug(\"01201\", (0,1), 3)"
   ]
  },
  {
   "cell_type": "code",
   "execution_count": 24,
   "id": "bc04d1b4-08da-4b5d-a098-a4de198f3ce0",
   "metadata": {
    "editable": true,
    "slideshow": {
     "slide_type": ""
    },
    "tags": []
   },
   "outputs": [
    {
     "name": "stdout",
     "output_type": "stream",
     "text": [
      "sequence before\n",
      "--------------------------------\n",
      "Index  Symbol     Pos    PrevKTuple   NextKTuple  \n",
      "--------------------------------------------------\n",
      "0      0          0      -1           -1          \n",
      "1      1          1      -1           4           \n",
      "2      2          2      -1           5           \n",
      "3      0          3      -1           -1          \n",
      "4      1          4      1            -1          \n",
      "5      2          5      2            -1          \n",
      "--------------------------------\n",
      "sequence after\n",
      "--------------------------------\n",
      "Index  Symbol     Pos    PrevKTuple   NextKTuple  \n",
      "--------------------------------------------------\n",
      "0      0          0      -1           -1          \n",
      "1      1          1      -1           -1          \n",
      "2      2          2      -1           -1          \n",
      "3      -1         3      2            4           \n",
      "4      3          4      -1           -1          \n",
      "5      2          5      -1           -1          \n",
      "--------------------------------\n"
     ]
    }
   ],
   "source": [
    "debug(\"012012\", (0,1), 3) #ERROR! NEXT TUPLE FOR SEQ[2] SHOULD BE -1"
   ]
  },
  {
   "cell_type": "code",
   "execution_count": 65,
   "id": "a2660125-b667-436a-8d2d-1c6ae9b4b5ba",
   "metadata": {},
   "outputs": [
    {
     "name": "stdout",
     "output_type": "stream",
     "text": [
      "Index  Symbol     Pos    PrevKTuple   NextKTuple  \n",
      "--------------------------------------------------\n",
      "0      0          0      -1           -1          \n",
      "1      1          1      -1           3           \n",
      "2      0          2      -1           -1          \n",
      "3      1          3      1            -1          \n",
      "Key    Count  Last   PosInQueue  \n",
      "--------------------------------\n",
      "(0, 1) 2      3      -1          \n",
      "(1, 0) 1      2      -1          \n"
     ]
    }
   ],
   "source": [
    "s, a = construct_active_k_tuples_and_sequence(string_to_symbol_list(\"0101\")[0], 2)\n",
    "SequenceElement.print_list(s)\n",
    "KTupleInfo.print_dict(a)"
   ]
  },
  {
   "cell_type": "code",
   "execution_count": 66,
   "id": "ed9314a9",
   "metadata": {},
   "outputs": [
    {
     "name": "stdout",
     "output_type": "stream",
     "text": [
      "Index  Symbol     Pos    PrevKTuple   NextKTuple  \n",
      "--------------------------------------------------\n",
      "0      0          0      -1           -1          \n",
      "1      0          1      -1           2           \n",
      "2      0          2      1            -1          \n",
      "Key    Count  Last   PosInQueue  \n",
      "--------------------------------\n",
      "(0, 0) 2      2      -1          \n"
     ]
    }
   ],
   "source": [
    "s, a = construct_active_k_tuples_and_sequence(string_to_symbol_list(\"000\")[0], 2)\n",
    "SequenceElement.print_list(s)\n",
    "KTupleInfo.print_dict(a)"
   ]
  },
  {
   "cell_type": "code",
   "execution_count": 67,
   "id": "3bbbbd9e",
   "metadata": {},
   "outputs": [
    {
     "name": "stdout",
     "output_type": "stream",
     "text": [
      "Index  Symbol     Pos    PrevKTuple   NextKTuple  \n",
      "--------------------------------------------------\n",
      "0      0          0      -1           -1          \n",
      "1      1          1      -1           4           \n",
      "2      2          2      -1           5           \n",
      "3      0          3      -1           -1          \n",
      "4      1          4      1            -1          \n",
      "5      2          5      2            -1          \n",
      "Key    Count  Last   PosInQueue  \n",
      "--------------------------------\n",
      "(0, 1) 2      4      -1          \n",
      "(1, 2) 2      5      -1          \n",
      "(2, 0) 1      3      -1          \n"
     ]
    }
   ],
   "source": [
    "s, a = construct_active_k_tuples_and_sequence(string_to_symbol_list(\"012012\")[0], 2)\n",
    "SequenceElement.print_list(s)\n",
    "KTupleInfo.print_dict(a)"
   ]
  },
  {
   "cell_type": "code",
   "execution_count": 11,
   "id": "bf8c6398-58a4-4dbd-8bf8-3ae94630a6ff",
   "metadata": {},
   "outputs": [],
   "source": [
    "from pprint import pprint"
   ]
  },
  {
   "cell_type": "code",
   "execution_count": 69,
   "id": "4ce0f069-ab0d-49a1-a1b6-d25670e23562",
   "metadata": {},
   "outputs": [
    {
     "name": "stdout",
     "output_type": "stream",
     "text": [
      "active_k_tuples before\n",
      "Key    Count  Last   PosInQueue  \n",
      "--------------------------------\n",
      "(0, 1) 2      4      -1          \n",
      "(1, 2) 2      5      -1          \n",
      "(2, 0) 1      3      -1          \n",
      "active_k_tuples after\n",
      "Key    Count  Last   PosInQueue  \n",
      "--------------------------------\n",
      "(0, 1) 2      4      0           \n",
      "(1, 2) 2      5      1           \n",
      "(2, 0) 1      3      0           \n",
      "priority queue\n",
      "{1: [(2, 0)], 2: [(0, 1), (1, 2)]}\n"
     ]
    }
   ],
   "source": [
    "sequence, active_k_tuples = construct_active_k_tuples_and_sequence(string_to_symbol_list(\"012012\")[0], 2)\n",
    "print(\"active_k_tuples before\")\n",
    "KTupleInfo.print_dict(active_k_tuples)\n",
    "priority_queue = construct_priority_queue(active_k_tuples)\n",
    "print(\"active_k_tuples after\")\n",
    "KTupleInfo.print_dict(active_k_tuples)\n",
    "print(\"priority queue\")\n",
    "pprint(priority_queue)"
   ]
  },
  {
   "cell_type": "code",
   "execution_count": null,
   "id": "c54320a1-8b52-477b-9c20-a5f5077838fb",
   "metadata": {},
   "outputs": [],
   "source": []
  },
  {
   "cell_type": "code",
   "execution_count": null,
   "id": "0d703799-449c-4df7-9590-14f18d5798d4",
   "metadata": {},
   "outputs": [],
   "source": []
  }
 ],
 "metadata": {
  "kernelspec": {
   "display_name": "Python 3 (ipykernel)",
   "language": "python",
   "name": "python3"
  },
  "language_info": {
   "codemirror_mode": {
    "name": "ipython",
    "version": 3
   },
   "file_extension": ".py",
   "mimetype": "text/x-python",
   "name": "python",
   "nbconvert_exporter": "python",
   "pygments_lexer": "ipython3",
   "version": "3.12.3"
  }
 },
 "nbformat": 4,
 "nbformat_minor": 5
}
