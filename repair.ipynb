{
 "cells": [
  {
   "cell_type": "code",
   "execution_count": 1,
   "id": "b904bef4-b4c7-4993-8b67-6a308cf94715",
   "metadata": {},
   "outputs": [],
   "source": [
    "#!jupyter nbconvert --to='script' repair.ipynb"
   ]
  },
  {
   "cell_type": "code",
   "execution_count": 1,
   "id": "246bd094-8cbb-4ab3-8b39-b8ea0ff160f4",
   "metadata": {},
   "outputs": [],
   "source": [
    "def string_to_symbol_list(string):\n",
    "    last_symbol = 0\n",
    "    symbol_list = []\n",
    "    char_to_symbol_dict = {}\n",
    "\n",
    "    for x in string:\n",
    "        if x not in char_to_symbol_dict:\n",
    "            char_to_symbol_dict[x] = last_symbol\n",
    "            last_symbol += 1\n",
    "        symbol_list.append(char_to_symbol_dict[x])\n",
    "    \n",
    "    return (symbol_list, char_to_symbol_dict)"
   ]
  },
  {
   "cell_type": "code",
   "execution_count": 56,
   "id": "f03fe93b-9d61-4122-9449-db7965b9f8c1",
   "metadata": {},
   "outputs": [],
   "source": [
    "class KTupleInfo:\n",
    "    def __init__(self):\n",
    "        self.count = 0\n",
    "        self.last = -1\n",
    "        self.pos_in_queue = -1\n",
    "\n",
    "    @classmethod\n",
    "    def print_dict(cls, items):\n",
    "        print(f\"{'Key':<6} {'Count':<6} {'Last':<6} {'PosInQueue':<12}\")\n",
    "        print(\"-\" * 32)\n",
    "        for i, item in items.items():\n",
    "            print(f\"{str(i):<6} {item.count:<6} {item.last:<6} {item.pos_in_queue:<12}\")\n",
    "\n",
    "class SequenceElement:\n",
    "    def __init__(self):\n",
    "        self.symbol = None\n",
    "        self.pos = -1\n",
    "        self.prev_k_tuple = -1\n",
    "        self.next_k_tuple = -1\n",
    "\n",
    "    @classmethod\n",
    "    def print_list(cls, items):\n",
    "        print(f\"{'Index':<6} {'Symbol':<10} {'Pos':<6} {'PrevKTuple':<12} {'NextKTuple':<12}\")\n",
    "        print(\"-\" * 50)\n",
    "        for i, item in enumerate(items):\n",
    "            print(f\"{str(i):<6} {str(item.symbol):<10} {item.pos:<6} {str(item.prev_k_tuple):<12} {str(item.next_k_tuple):<12}\")\n",
    "\n",
    "\n",
    "\n",
    "\n",
    "def construct_active_k_tuples_and_sequence(symbol_list, k):\n",
    "    active_k_tuples = {}\n",
    "    sequence = []\n",
    "\n",
    "    for i in range(k - 1):\n",
    "        elem = SequenceElement()\n",
    "        elem.symbol = symbol_list[i]\n",
    "        elem.prev_k_tuple = -1\n",
    "        elem.pos = i\n",
    "        elem.next_k_tuple = -1\n",
    "        sequence.append(elem)\n",
    "\n",
    "    for i in range(k - 1, len(symbol_list)):\n",
    "        k_tuple = tuple(symbol_list[i - k + 1:i + 1])\n",
    "        if k_tuple not in active_k_tuples:\n",
    "            info = KTupleInfo()\n",
    "            info.count = 1\n",
    "            info.last = i\n",
    "            active_k_tuples[k_tuple] = info\n",
    "\n",
    "            elem = SequenceElement()\n",
    "            elem.symbol = symbol_list[i]\n",
    "            elem.prev_k_tuple = -1\n",
    "            elem.pos = i\n",
    "            elem.next_k_tuple = -1\n",
    "            sequence.append(elem)\n",
    "        else:\n",
    "            prev_index = active_k_tuples[k_tuple].last\n",
    "            active_k_tuples[k_tuple].count += 1\n",
    "            active_k_tuples[k_tuple].last = i\n",
    "\n",
    "            elem = SequenceElement()\n",
    "            elem.symbol = symbol_list[i]\n",
    "            elem.pos = i\n",
    "            elem.prev_k_tuple = prev_index\n",
    "            sequence[prev_index].next_k_tuple = i\n",
    "            sequence.append(elem)\n",
    "\n",
    "    return sequence, active_k_tuples\n"
   ]
  },
  {
   "cell_type": "code",
   "execution_count": 57,
   "id": "650c1eda-9d68-4365-9d9e-a97772aa7feb",
   "metadata": {},
   "outputs": [],
   "source": [
    "# we use a dict based on priorities to manage priority queue\n",
    "# no use for bothering with heapq\n",
    "\n",
    "def construct_priority_queue(active_k_tuples):\n",
    "    priority_queue = {}\n",
    "    \n",
    "    for k, v in active_k_tuples.items():\n",
    "        if v.count not in priority_queue:\n",
    "            priority_queue[v.count] = []\n",
    "        v.pos_in_queue = len(priority_queue[v.count])\n",
    "        priority_queue[v.count].append(k)\n",
    "        \n",
    "    return priority_queue"
   ]
  },
  {
   "cell_type": "code",
   "execution_count": 58,
   "id": "365c4728-ae43-4c64-8eda-af3c69882d72",
   "metadata": {},
   "outputs": [],
   "source": [
    "def replace_active_k_tuple(priority_queue, active_k_tuples, sequence, k_tuple, new_symbol,k):\n",
    "    #works only for k=2\n",
    "    #then need to come up with way to replace all the deleted tuples\n",
    "    \n",
    "    changed_k_tuples = {}\n",
    "\n",
    "    #NotASymbol\n",
    "    NAS = -1\n",
    "    def get_prev_index(node):\n",
    "        pos = node.pos-1\n",
    "        while pos >= 0 and sequence[pos] == NAS:\n",
    "            pos -= 1\n",
    "        return pos\n",
    "\n",
    "    def get_next_index(node):\n",
    "        pos = node.pos+1\n",
    "        while pos < len(sequence) and sequence[pos] == NAS:\n",
    "            pos += 1\n",
    "        return pos\n",
    "        \n",
    "\n",
    "    last = sequence[active_k_tuples[k_tuple].last]\n",
    "    first = sequence[get_prev_index(last)]\n",
    "\n",
    "    def update_counts_link_new_prev_k_tuples(pair_pos, old_pair, new_pair):\n",
    "        if new_pair not in changed_k_tuples:\n",
    "            #first such pair to change\n",
    "            changed_k_tuples[new_pair] = KTupleInfo()\n",
    "            changed_k_tuples[new_pair].count = 1\n",
    "            changed_k_tuples[new_pair].last = pair_pos\n",
    "            sequence[pair_pos].prev_k_tuple = -1\n",
    "        else:\n",
    "            #there were other such pairs\n",
    "            changed_k_tuples[new_pair].count += 1\n",
    "            sequence[pair_pos].prev_k_tuple = changed_k_tuples[new_pair].last\n",
    "            changed_k_tuples[new_pair].last = pair_pos\n",
    "\n",
    "        #technically the first to be inserted never is in changed_k_tuples but too much code required to fix that, it does no harm\n",
    "        if old_pair not in changed_k_tuples:\n",
    "            changed_k_tuples[old_pair] = active_k_tuples[old_pair]\n",
    "        changed_k_tuples[old_pair].count -= 1\n",
    "        \n",
    "    #update pairs\n",
    "    prev_index = get_prev_index(first)\n",
    "    if prev_index != -1:\n",
    "        #if it is not the leftmost pair in the sequence \n",
    "\n",
    "        pair_pos = first.pos #so the position of first; position of pair is stored in its last symbol \n",
    "        prev_symbol = sequence[prev_index]\n",
    "        old_prev_pair = (prev_symbol.symbol, first.symbol)\n",
    "        new_prev_pair = (prev_symbol.symbol, new_symbol)\n",
    "\n",
    "        update_counts_link_new_prev_k_tuples(pair_pos, old_prev_pair, new_prev_pair)\n",
    "\n",
    "    next_index = get_next_index(last)\n",
    "    if next_index != -1:\n",
    "        \n",
    "        pair_pos = next_index #so the position of last; position of pair is stored in its last symbol \n",
    "        next_symbol = sequence[next_index]\n",
    "        old_next_pair = (last.symbol, next_symbol.symbol) \n",
    "        new_next_pair = (new_symbol, next_symbol.symbol) \n",
    "\n",
    "        update_counts_link_new_prev_k_tuples (pair_pos, old_next_pair, new_next_pair)\n",
    "\n",
    "    #update the symbol\n",
    "    first.symbol = -1\n",
    "    last.symbol = new_symbol\n",
    "    \n",
    "    # while last.prev_k_tuple != -1:\n",
    "    #     last = sequence[last.prev_k_tuple]\n",
    "\n",
    "    #REPLACE SYMBOLS! TAKE CARE OF POINTERS!"
   ]
  },
  {
   "cell_type": "markdown",
   "id": "e642a2bb-7aee-4732-a59e-76070df6bb5e",
   "metadata": {},
   "source": [
    "# tests"
   ]
  },
  {
   "cell_type": "code",
   "execution_count": 59,
   "id": "245fccab-c7cc-461a-affe-4dec29803be7",
   "metadata": {},
   "outputs": [],
   "source": [
    "from pprint import pprint"
   ]
  },
  {
   "cell_type": "code",
   "execution_count": 64,
   "id": "818515e7-23be-414d-bc08-95778c731f3e",
   "metadata": {},
   "outputs": [
    {
     "name": "stdout",
     "output_type": "stream",
     "text": [
      "--------------------------------\n",
      "active_k_tuples before\n",
      "--------------------------------\n",
      "Key    Count  Last   PosInQueue  \n",
      "--------------------------------\n",
      "(0, 1) 2      4      0           \n",
      "(1, 2) 2      5      1           \n",
      "(2, 0) 1      3      0           \n",
      "--------------------------------\n",
      "priority queue before\n",
      "--------------------------------\n",
      "{2: [(0, 1), (1, 2)], 1: [(2, 0)]}\n",
      "--------------------------------\n",
      "sequence before\n",
      "--------------------------------\n",
      "Index  Symbol     Pos    PrevKTuple   NextKTuple  \n",
      "--------------------------------------------------\n",
      "0      0          0      -1           -1          \n",
      "1      1          1      -1           4           \n",
      "2      2          2      -1           5           \n",
      "3      0          3      -1           -1          \n",
      "4      1          4      1            -1          \n",
      "5      2          5      2            -1          \n",
      "--------------------------------\n",
      "--------------------------------\n",
      "active_k_tuples after\n",
      "--------------------------------\n",
      "Key    Count  Last   PosInQueue  \n",
      "--------------------------------\n",
      "(0, 1) 2      4      0           \n",
      "(1, 2) 1      5      1           \n",
      "(2, 0) 0      3      0           \n",
      "--------------------------------\n",
      "priority queue after\n",
      "--------------------------------\n",
      "{2: [(0, 1), (1, 2)], 1: [(2, 0)]}\n",
      "--------------------------------\n",
      "sequence after\n",
      "--------------------------------\n",
      "Index  Symbol     Pos    PrevKTuple   NextKTuple  \n",
      "--------------------------------------------------\n",
      "0      0          0      -1           -1          \n",
      "1      1          1      -1           4           \n",
      "2      2          2      -1           5           \n",
      "3      -1         3      -1           -1          \n",
      "4      3          4      1            -1          \n",
      "5      2          5      -1           -1          \n",
      "--------------------------------\n"
     ]
    }
   ],
   "source": [
    "sequence, active_k_tuples = construct_active_k_tuples_and_sequence(string_to_symbol_list(\"012012\")[0], 2)\n",
    "priority_queue = construct_priority_queue(active_k_tuples)\n",
    "print(\"-\"*32)\n",
    "print(\"active_k_tuples before\")\n",
    "print(\"-\"*32)\n",
    "KTupleInfo.print_dict(active_k_tuples)\n",
    "print(\"-\"*32)\n",
    "print(\"priority queue before\")\n",
    "print(\"-\"*32)\n",
    "print(priority_queue)\n",
    "print(\"-\"*32)\n",
    "print(\"sequence before\")\n",
    "print(\"-\"*32)\n",
    "SequenceElement.print_list(sequence)\n",
    "print(\"-\"*32)\n",
    "\n",
    "replace_active_k_tuple(priority_queue, active_k_tuples, sequence, (0,1), 3, 2)\n",
    "\n",
    "print(\"-\"*32)\n",
    "print(\"active_k_tuples after\")\n",
    "print(\"-\"*32)\n",
    "KTupleInfo.print_dict(active_k_tuples)\n",
    "print(\"-\"*32)\n",
    "print(\"priority queue after\")\n",
    "print(\"-\"*32)\n",
    "print(priority_queue)\n",
    "print(\"-\"*32)\n",
    "print(\"sequence after\")\n",
    "print(\"-\"*32)\n",
    "SequenceElement.print_list(sequence)\n",
    "print(\"-\"*32)\n"
   ]
  },
  {
   "cell_type": "code",
   "execution_count": 63,
   "id": "e9d26957-cd31-4043-bb20-1701db617a83",
   "metadata": {},
   "outputs": [
    {
     "data": {
      "text/plain": [
       "([0, 1, 0, 2, 3, 0, 2, 4, 5, 6, 0],\n",
       " {'a': 0, 'l': 1, ' ': 2, 'm': 3, 'k': 4, 'o': 5, 't': 6})"
      ]
     },
     "execution_count": 63,
     "metadata": {},
     "output_type": "execute_result"
    }
   ],
   "source": [
    "string_to_symbol_list(\"ala ma kota\")"
   ]
  },
  {
   "cell_type": "code",
   "execution_count": 65,
   "id": "a2660125-b667-436a-8d2d-1c6ae9b4b5ba",
   "metadata": {},
   "outputs": [
    {
     "name": "stdout",
     "output_type": "stream",
     "text": [
      "Index  Symbol     Pos    PrevKTuple   NextKTuple  \n",
      "--------------------------------------------------\n",
      "0      0          0      -1           -1          \n",
      "1      1          1      -1           3           \n",
      "2      0          2      -1           -1          \n",
      "3      1          3      1            -1          \n",
      "Key    Count  Last   PosInQueue  \n",
      "--------------------------------\n",
      "(0, 1) 2      3      -1          \n",
      "(1, 0) 1      2      -1          \n"
     ]
    }
   ],
   "source": [
    "s, a = construct_active_k_tuples_and_sequence(string_to_symbol_list(\"0101\")[0], 2)\n",
    "SequenceElement.print_list(s)\n",
    "KTupleInfo.print_dict(a)"
   ]
  },
  {
   "cell_type": "code",
   "execution_count": 66,
   "id": "bc967247",
   "metadata": {},
   "outputs": [
    {
     "name": "stdout",
     "output_type": "stream",
     "text": [
      "Index  Symbol     Pos    PrevKTuple   NextKTuple  \n",
      "--------------------------------------------------\n",
      "0      0          0      -1           -1          \n",
      "1      0          1      -1           2           \n",
      "2      0          2      1            -1          \n",
      "Key    Count  Last   PosInQueue  \n",
      "--------------------------------\n",
      "(0, 0) 2      2      -1          \n"
     ]
    }
   ],
   "source": [
    "s, a = construct_active_k_tuples_and_sequence(string_to_symbol_list(\"000\")[0], 2)\n",
    "SequenceElement.print_list(s)\n",
    "KTupleInfo.print_dict(a)"
   ]
  },
  {
   "cell_type": "code",
   "execution_count": 67,
   "id": "789a57c9",
   "metadata": {},
   "outputs": [
    {
     "name": "stdout",
     "output_type": "stream",
     "text": [
      "Index  Symbol     Pos    PrevKTuple   NextKTuple  \n",
      "--------------------------------------------------\n",
      "0      0          0      -1           -1          \n",
      "1      1          1      -1           4           \n",
      "2      2          2      -1           5           \n",
      "3      0          3      -1           -1          \n",
      "4      1          4      1            -1          \n",
      "5      2          5      2            -1          \n",
      "Key    Count  Last   PosInQueue  \n",
      "--------------------------------\n",
      "(0, 1) 2      4      -1          \n",
      "(1, 2) 2      5      -1          \n",
      "(2, 0) 1      3      -1          \n"
     ]
    }
   ],
   "source": [
    "s, a = construct_active_k_tuples_and_sequence(string_to_symbol_list(\"012012\")[0], 2)\n",
    "SequenceElement.print_list(s)\n",
    "KTupleInfo.print_dict(a)"
   ]
  },
  {
   "cell_type": "code",
   "execution_count": 11,
   "id": "bf8c6398-58a4-4dbd-8bf8-3ae94630a6ff",
   "metadata": {},
   "outputs": [],
   "source": [
    "from pprint import pprint"
   ]
  },
  {
   "cell_type": "code",
   "execution_count": 69,
   "id": "4ce0f069-ab0d-49a1-a1b6-d25670e23562",
   "metadata": {},
   "outputs": [
    {
     "name": "stdout",
     "output_type": "stream",
     "text": [
      "active_k_tuples before\n",
      "Key    Count  Last   PosInQueue  \n",
      "--------------------------------\n",
      "(0, 1) 2      4      -1          \n",
      "(1, 2) 2      5      -1          \n",
      "(2, 0) 1      3      -1          \n",
      "active_k_tuples after\n",
      "Key    Count  Last   PosInQueue  \n",
      "--------------------------------\n",
      "(0, 1) 2      4      0           \n",
      "(1, 2) 2      5      1           \n",
      "(2, 0) 1      3      0           \n",
      "priority queue\n",
      "{1: [(2, 0)], 2: [(0, 1), (1, 2)]}\n"
     ]
    }
   ],
   "source": [
    "sequence, active_k_tuples = construct_active_k_tuples_and_sequence(string_to_symbol_list(\"012012\")[0], 2)\n",
    "print(\"active_k_tuples before\")\n",
    "KTupleInfo.print_dict(active_k_tuples)\n",
    "priority_queue = construct_priority_queue(active_k_tuples)\n",
    "print(\"active_k_tuples after\")\n",
    "KTupleInfo.print_dict(active_k_tuples)\n",
    "print(\"priority queue\")\n",
    "pprint(priority_queue)"
   ]
  },
  {
   "cell_type": "code",
   "execution_count": null,
   "id": "c54320a1-8b52-477b-9c20-a5f5077838fb",
   "metadata": {},
   "outputs": [],
   "source": []
  },
  {
   "cell_type": "code",
   "execution_count": null,
   "id": "0d703799-449c-4df7-9590-14f18d5798d4",
   "metadata": {},
   "outputs": [],
   "source": []
  }
 ],
 "metadata": {
  "kernelspec": {
   "display_name": "Python 3 (ipykernel)",
   "language": "python",
   "name": "python3"
  },
  "language_info": {
   "codemirror_mode": {
    "name": "ipython",
    "version": 3
   },
   "file_extension": ".py",
   "mimetype": "text/x-python",
   "name": "python",
   "nbconvert_exporter": "python",
   "pygments_lexer": "ipython3",
   "version": "3.12.3"
  }
 },
 "nbformat": 4,
 "nbformat_minor": 5
}
