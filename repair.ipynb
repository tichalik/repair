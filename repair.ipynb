{
 "cells": [
  {
   "cell_type": "code",
   "execution_count": 1,
   "id": "246bd094-8cbb-4ab3-8b39-b8ea0ff160f4",
   "metadata": {},
   "outputs": [],
   "source": [
    "def string_to_symbol_list(string):\n",
    "    last_symbol = 0\n",
    "    symbol_list = []\n",
    "    char_to_symbol_dict = {}\n",
    "\n",
    "    for x in string:\n",
    "        if x not in char_to_symbol_dict:\n",
    "            char_to_symbol_dict[x] = last_symbol\n",
    "            last_symbol += 1\n",
    "        symbol_list.append(char_to_symbol_dict[x])\n",
    "    \n",
    "    return (symbol_list, char_to_symbol_dict)"
   ]
  },
  {
   "cell_type": "code",
   "execution_count": 74,
   "id": "f03fe93b-9d61-4122-9449-db7965b9f8c1",
   "metadata": {},
   "outputs": [],
   "source": [
    "class KTupleInfo:\n",
    "    def __init__(self):\n",
    "        self.count = 0\n",
    "        self.last = -1\n",
    "        self.pos_in_queue = -1\n",
    "\n",
    "    def __repr__(self):\n",
    "        return f\"KTupleInfo(count={self.count}, last={self.last}, pos_in_queue={self.pos_in_queue})\"\n",
    "\n",
    "\n",
    "class SequenceElement:\n",
    "    def __init__(self):\n",
    "        self.symbol = None\n",
    "        self.next = -1\n",
    "        self.prev = -1\n",
    "        self.prev_k_tuple = -1\n",
    "\n",
    "    def __repr__(self):\n",
    "        return (f\"SequenceElement(symbol={self.symbol}, next={self.next}, \"\n",
    "                f\"prev={self.prev}, prev_k_tuple={self.prev_k_tuple})\")\n",
    "\n",
    "\n",
    "def construct_active_k_tuples_and_sequence(symbol_list, k):\n",
    "    active_k_tuples = {}\n",
    "    sequence = []\n",
    "\n",
    "    for i in range(k - 1):\n",
    "        elem = SequenceElement()\n",
    "        elem.symbol = symbol_list[i]\n",
    "        elem.next = i + 1\n",
    "        elem.prev = i - 1\n",
    "        sequence.append(elem)\n",
    "\n",
    "    for i in range(k - 1, len(symbol_list)):\n",
    "        k_tuple = tuple(symbol_list[i - k + 1:i + 1])\n",
    "        if k_tuple not in active_k_tuples:\n",
    "            info = KTupleInfo()\n",
    "            info.count = 1\n",
    "            info.last = i\n",
    "            active_k_tuples[k_tuple] = info\n",
    "\n",
    "            elem = SequenceElement()\n",
    "            elem.symbol = symbol_list[i]\n",
    "            elem.next = i + 1\n",
    "            elem.prev = i - 1\n",
    "            sequence.append(elem)\n",
    "        else:\n",
    "            prev_index = active_k_tuples[k_tuple].last\n",
    "            active_k_tuples[k_tuple].count += 1\n",
    "            active_k_tuples[k_tuple].last = i\n",
    "\n",
    "            elem = SequenceElement()\n",
    "            elem.symbol = symbol_list[i]\n",
    "            elem.next = i + 1\n",
    "            elem.prev = i - 1\n",
    "            elem.prev_k_tuple = prev_index\n",
    "            sequence.append(elem)\n",
    "\n",
    "    sequence[-1].next = -1\n",
    "\n",
    "    return sequence, active_k_tuples\n"
   ]
  },
  {
   "cell_type": "code",
   "execution_count": 75,
   "id": "650c1eda-9d68-4365-9d9e-a97772aa7feb",
   "metadata": {},
   "outputs": [],
   "source": [
    "# we use a dict based on priorities to manage priority queue\n",
    "# no use for bothering with heapq\n",
    "\n",
    "def construct_priority_queue(active_k_tuples):\n",
    "    priority_queue = {}\n",
    "    \n",
    "    for k, v in active_k_tuples.items():\n",
    "        if v.count not in priority_queue:\n",
    "            priority_queue[v.count] = []\n",
    "        v.pos_in_queue = len(priority_queue[v.count])\n",
    "        priority_queue[v.count].append(k)\n",
    "        \n",
    "    return priority_queue"
   ]
  },
  {
   "cell_type": "code",
   "execution_count": 95,
   "id": "365c4728-ae43-4c64-8eda-af3c69882d72",
   "metadata": {},
   "outputs": [],
   "source": [
    "def replace_active_k_tuple(priority_queue, active_k_tuples, sequence, k_tuple, new_symbol,k):\n",
    "    #works only for k=2\n",
    "    #then need to come up with way to replace all the deleted tuples\n",
    "    \n",
    "    changed_k_tuples = {}\n",
    "\n",
    "    last = sequence[active_k_tuples[k_tuple].last]\n",
    "    first = sequence[last.prev]\n",
    "\n",
    "    def change(pair_pos, old_pair, new_pair):\n",
    "        if new_pair not in changed_k_tuples:\n",
    "            #first such pair to change\n",
    "            changed_k_tuples[new_pair] = KTupleInfo()\n",
    "            changed_k_tuples[new_pair].count = 1\n",
    "            changed_k_tuples[new_pair].last = pair_pos\n",
    "            sequence[pair_pos].prev_k_tuple = -1\n",
    "        else:\n",
    "            #there were other such pairs\n",
    "            changed_k_tuples[new_pair].count += 1\n",
    "            sequence[pair_pos].prev_k_tuple = changed_k_tuples[new_pair].last\n",
    "            changed_k_tuples[new_pair].last = pair_pos\n",
    "\n",
    "        #technically the first to be inserted never is in changed_k_tuples but too much code required to fix that, it does no harm\n",
    "        if old_pair not in changed_k_tuples:\n",
    "            changed_k_tuples[old_pair] = active_k_tuples[old_pair]\n",
    "        changed_k_tuples[old_pair].count -= 1\n",
    "        \n",
    "    #update pairs\n",
    "    if first.prev != -1:\n",
    "        #if it is not the leftmost pair in the sequence \n",
    "\n",
    "        pair_pos = last.prev #so the position of first; position of pair is stored in its last symbol \n",
    "        prev_symbol = sequence[sequence[first.prev].prev]\n",
    "        old_prev_pair = (prev_symbol.symbol, first.symbol)\n",
    "        new_prev_pair = (prev_symbol.symbol, new_symbol)\n",
    "\n",
    "        change(pair_pos, old_prev_pair, new_prev_pair)\n",
    "\n",
    "    if last.next != -1:\n",
    "        \n",
    "        pair_pos = first.next #so the position of last; position of pair is stored in its last symbol \n",
    "        next_symbol = sequence[sequence[last.next].next]\n",
    "        old_next_pair = (last.symbol, next_symbol.symbol) \n",
    "        new_next_pair = (new_symbol, next_symbol.symbol) \n",
    "\n",
    "        change(pair_pos, old_next_pair, new_next_pair)\n",
    "\n",
    "    #update the symbol\n",
    "    sequence[first.next].symbol = -1\n",
    "\n",
    "    # while last.prev_k_tuple != -1:\n",
    "    #     last = sequence[last.prev_k_tuple]\n",
    "\n",
    "    #REPLACE SYMBOLS! TAKE CARE OF POINTERS!"
   ]
  },
  {
   "cell_type": "markdown",
   "id": "e642a2bb-7aee-4732-a59e-76070df6bb5e",
   "metadata": {},
   "source": [
    "# tests"
   ]
  },
  {
   "cell_type": "code",
   "execution_count": 96,
   "id": "e9d26957-cd31-4043-bb20-1701db617a83",
   "metadata": {},
   "outputs": [
    {
     "data": {
      "text/plain": [
       "([0, 1, 0, 2, 3, 0, 2, 4, 5, 6, 0],\n",
       " {'a': 0, 'l': 1, ' ': 2, 'm': 3, 'k': 4, 'o': 5, 't': 6})"
      ]
     },
     "execution_count": 96,
     "metadata": {},
     "output_type": "execute_result"
    }
   ],
   "source": [
    "string_to_symbol_list(\"ala ma kota\")"
   ]
  },
  {
   "cell_type": "code",
   "execution_count": 97,
   "id": "a2660125-b667-436a-8d2d-1c6ae9b4b5ba",
   "metadata": {},
   "outputs": [
    {
     "data": {
      "text/plain": [
       "([SequenceElement(symbol=0, next=1, prev=-1, prev_k_tuple=-1),\n",
       "  SequenceElement(symbol=1, next=2, prev=0, prev_k_tuple=-1),\n",
       "  SequenceElement(symbol=0, next=3, prev=1, prev_k_tuple=-1),\n",
       "  SequenceElement(symbol=1, next=-1, prev=2, prev_k_tuple=1)],\n",
       " {(0, 1): KTupleInfo(count=2, last=3, pos_in_queue=-1),\n",
       "  (1, 0): KTupleInfo(count=1, last=2, pos_in_queue=-1)})"
      ]
     },
     "execution_count": 97,
     "metadata": {},
     "output_type": "execute_result"
    }
   ],
   "source": [
    "construct_active_k_tuples_and_sequence(string_to_symbol_list(\"0101\")[0], 2)"
   ]
  },
  {
   "cell_type": "code",
   "execution_count": 98,
   "id": "6398525c-56ab-401c-a81b-ea0826b73846",
   "metadata": {},
   "outputs": [
    {
     "data": {
      "text/plain": [
       "([SequenceElement(symbol=0, next=1, prev=-1, prev_k_tuple=-1),\n",
       "  SequenceElement(symbol=0, next=2, prev=0, prev_k_tuple=-1),\n",
       "  SequenceElement(symbol=0, next=3, prev=1, prev_k_tuple=1),\n",
       "  SequenceElement(symbol=0, next=-1, prev=2, prev_k_tuple=2)],\n",
       " {(0, 0): KTupleInfo(count=3, last=3, pos_in_queue=-1)})"
      ]
     },
     "execution_count": 98,
     "metadata": {},
     "output_type": "execute_result"
    }
   ],
   "source": [
    "construct_active_k_tuples_and_sequence(string_to_symbol_list(\"0000\")[0], 2)"
   ]
  },
  {
   "cell_type": "code",
   "execution_count": 99,
   "id": "67f0063e-121e-488a-a756-deb409219191",
   "metadata": {
    "scrolled": true
   },
   "outputs": [
    {
     "data": {
      "text/plain": [
       "([SequenceElement(symbol=0, next=1, prev=-1, prev_k_tuple=-1),\n",
       "  SequenceElement(symbol=1, next=2, prev=0, prev_k_tuple=-1),\n",
       "  SequenceElement(symbol=2, next=3, prev=1, prev_k_tuple=-1),\n",
       "  SequenceElement(symbol=0, next=4, prev=2, prev_k_tuple=-1),\n",
       "  SequenceElement(symbol=1, next=5, prev=3, prev_k_tuple=1),\n",
       "  SequenceElement(symbol=2, next=-1, prev=4, prev_k_tuple=2)],\n",
       " {(0, 1): KTupleInfo(count=2, last=4, pos_in_queue=-1),\n",
       "  (1, 2): KTupleInfo(count=2, last=5, pos_in_queue=-1),\n",
       "  (2, 0): KTupleInfo(count=1, last=3, pos_in_queue=-1)})"
      ]
     },
     "execution_count": 99,
     "metadata": {},
     "output_type": "execute_result"
    }
   ],
   "source": [
    "construct_active_k_tuples_and_sequence(string_to_symbol_list(\"012012\")[0], 2)"
   ]
  },
  {
   "cell_type": "code",
   "execution_count": 100,
   "id": "bf8c6398-58a4-4dbd-8bf8-3ae94630a6ff",
   "metadata": {},
   "outputs": [],
   "source": [
    "from pprint import pprint"
   ]
  },
  {
   "cell_type": "code",
   "execution_count": 101,
   "id": "4ce0f069-ab0d-49a1-a1b6-d25670e23562",
   "metadata": {},
   "outputs": [
    {
     "name": "stdout",
     "output_type": "stream",
     "text": [
      "'active_k_tuples before'\n",
      "{(0, 1): KTupleInfo(count=2, last=4, pos_in_queue=-1),\n",
      " (1, 2): KTupleInfo(count=2, last=5, pos_in_queue=-1),\n",
      " (2, 0): KTupleInfo(count=1, last=3, pos_in_queue=-1)}\n",
      "'active_k_tuples after'\n",
      "{(0, 1): KTupleInfo(count=2, last=4, pos_in_queue=0),\n",
      " (1, 2): KTupleInfo(count=2, last=5, pos_in_queue=1),\n",
      " (2, 0): KTupleInfo(count=1, last=3, pos_in_queue=0)}\n",
      "'priority queue'\n",
      "{1: [(2, 0)], 2: [(0, 1), (1, 2)]}\n"
     ]
    }
   ],
   "source": [
    "sequence, active_k_tuples = construct_active_k_tuples_and_sequence(string_to_symbol_list(\"012012\")[0], 2)\n",
    "pprint(\"active_k_tuples before\")\n",
    "pprint(active_k_tuples)\n",
    "priority_queue = construct_priority_queue(active_k_tuples)\n",
    "pprint(\"active_k_tuples after\")\n",
    "pprint(active_k_tuples)\n",
    "pprint(\"priority queue\")\n",
    "pprint(priority_queue)"
   ]
  },
  {
   "cell_type": "code",
   "execution_count": 102,
   "id": "818515e7-23be-414d-bc08-95778c731f3e",
   "metadata": {},
   "outputs": [
    {
     "name": "stdout",
     "output_type": "stream",
     "text": [
      "'active_k_tuples before'\n",
      "{(0, 1): KTupleInfo(count=2, last=4, pos_in_queue=0),\n",
      " (1, 2): KTupleInfo(count=2, last=5, pos_in_queue=1),\n",
      " (2, 0): KTupleInfo(count=1, last=3, pos_in_queue=0)}\n",
      "'priority queue before'\n",
      "{1: [(2, 0)], 2: [(0, 1), (1, 2)]}\n",
      "'sequence after'\n",
      "[SequenceElement(symbol=0, next=1, prev=-1, prev_k_tuple=-1),\n",
      " SequenceElement(symbol=1, next=2, prev=0, prev_k_tuple=-1),\n",
      " SequenceElement(symbol=2, next=3, prev=1, prev_k_tuple=-1),\n",
      " SequenceElement(symbol=0, next=4, prev=2, prev_k_tuple=-1),\n",
      " SequenceElement(symbol=1, next=5, prev=3, prev_k_tuple=1),\n",
      " SequenceElement(symbol=2, next=-1, prev=4, prev_k_tuple=2)]\n"
     ]
    },
    {
     "ename": "KeyError",
     "evalue": "(1, 0)",
     "output_type": "error",
     "traceback": [
      "\u001b[31m---------------------------------------------------------------------------\u001b[39m",
      "\u001b[31mKeyError\u001b[39m                                  Traceback (most recent call last)",
      "\u001b[36mCell\u001b[39m\u001b[36m \u001b[39m\u001b[32mIn[102]\u001b[39m\u001b[32m, line 11\u001b[39m\n\u001b[32m      8\u001b[39m pprint(\u001b[33m\"\u001b[39m\u001b[33msequence after\u001b[39m\u001b[33m\"\u001b[39m)\n\u001b[32m      9\u001b[39m pprint(sequence)\n\u001b[32m---> \u001b[39m\u001b[32m11\u001b[39m \u001b[43mreplace_active_k_tuple\u001b[49m\u001b[43m(\u001b[49m\u001b[43mpriority_queue\u001b[49m\u001b[43m,\u001b[49m\u001b[43m \u001b[49m\u001b[43mactive_k_tuples\u001b[49m\u001b[43m,\u001b[49m\u001b[43m \u001b[49m\u001b[43msequence\u001b[49m\u001b[43m,\u001b[49m\u001b[43m \u001b[49m\u001b[43m(\u001b[49m\u001b[32;43m0\u001b[39;49m\u001b[43m,\u001b[49m\u001b[32;43m1\u001b[39;49m\u001b[43m)\u001b[49m\u001b[43m,\u001b[49m\u001b[43m \u001b[49m\u001b[32;43m3\u001b[39;49m\u001b[43m,\u001b[49m\u001b[43m \u001b[49m\u001b[32;43m2\u001b[39;49m\u001b[43m)\u001b[49m\n\u001b[32m     13\u001b[39m pprint(\u001b[33m\"\u001b[39m\u001b[33mactive_k_tuples after\u001b[39m\u001b[33m\"\u001b[39m)\n\u001b[32m     14\u001b[39m pprint(active_k_tuples)\n",
      "\u001b[36mCell\u001b[39m\u001b[36m \u001b[39m\u001b[32mIn[95]\u001b[39m\u001b[32m, line 37\u001b[39m, in \u001b[36mreplace_active_k_tuple\u001b[39m\u001b[34m(priority_queue, active_k_tuples, sequence, k_tuple, new_symbol, k)\u001b[39m\n\u001b[32m     34\u001b[39m     old_prev_pair = (prev_symbol.symbol, first.symbol)\n\u001b[32m     35\u001b[39m     new_prev_pair = (prev_symbol.symbol, new_symbol)\n\u001b[32m---> \u001b[39m\u001b[32m37\u001b[39m     \u001b[43mchange\u001b[49m\u001b[43m(\u001b[49m\u001b[43mpair_pos\u001b[49m\u001b[43m,\u001b[49m\u001b[43m \u001b[49m\u001b[43mold_prev_pair\u001b[49m\u001b[43m,\u001b[49m\u001b[43m \u001b[49m\u001b[43mnew_prev_pair\u001b[49m\u001b[43m)\u001b[49m\n\u001b[32m     39\u001b[39m \u001b[38;5;28;01mif\u001b[39;00m last.next != -\u001b[32m1\u001b[39m:\n\u001b[32m     41\u001b[39m     pair_pos = first.next \u001b[38;5;66;03m#so the position of last; position of pair is stored in its last symbol \u001b[39;00m\n",
      "\u001b[36mCell\u001b[39m\u001b[36m \u001b[39m\u001b[32mIn[95]\u001b[39m\u001b[32m, line 25\u001b[39m, in \u001b[36mreplace_active_k_tuple.<locals>.change\u001b[39m\u001b[34m(pair_pos, old_pair, new_pair)\u001b[39m\n\u001b[32m     23\u001b[39m \u001b[38;5;66;03m#technically the first to be inserted never is in changed_k_tuples but too much code required to fix that, it does no harm\u001b[39;00m\n\u001b[32m     24\u001b[39m \u001b[38;5;28;01mif\u001b[39;00m old_pair \u001b[38;5;129;01mnot\u001b[39;00m \u001b[38;5;129;01min\u001b[39;00m changed_k_tuples:\n\u001b[32m---> \u001b[39m\u001b[32m25\u001b[39m     changed_k_tuples[old_pair] = \u001b[43mactive_k_tuples\u001b[49m\u001b[43m[\u001b[49m\u001b[43mold_pair\u001b[49m\u001b[43m]\u001b[49m\n\u001b[32m     26\u001b[39m changed_k_tuples[old_pair].count -= \u001b[32m1\u001b[39m\n",
      "\u001b[31mKeyError\u001b[39m: (1, 0)"
     ]
    }
   ],
   "source": [
    "sequence, active_k_tuples = construct_active_k_tuples_and_sequence(string_to_symbol_list(\"012012\")[0], 2)\n",
    "priority_queue = construct_priority_queue(active_k_tuples)\n",
    "\n",
    "pprint(\"active_k_tuples before\")\n",
    "pprint(active_k_tuples)\n",
    "pprint(\"priority queue before\")\n",
    "pprint(priority_queue)\n",
    "pprint(\"sequence after\")\n",
    "pprint(sequence)\n",
    "\n",
    "replace_active_k_tuple(priority_queue, active_k_tuples, sequence, (0,1), 3, 2)\n",
    "\n",
    "pprint(\"active_k_tuples after\")\n",
    "pprint(active_k_tuples)\n",
    "pprint(\"priority queue after\")\n",
    "pprint(priority_queue)\n",
    "pprint(\"sequence after\")\n",
    "pprint(sequence)"
   ]
  },
  {
   "cell_type": "code",
   "execution_count": null,
   "id": "c54320a1-8b52-477b-9c20-a5f5077838fb",
   "metadata": {},
   "outputs": [],
   "source": []
  }
 ],
 "metadata": {
  "kernelspec": {
   "display_name": "Python 3 (ipykernel)",
   "language": "python",
   "name": "python3"
  },
  "language_info": {
   "codemirror_mode": {
    "name": "ipython",
    "version": 3
   },
   "file_extension": ".py",
   "mimetype": "text/x-python",
   "name": "python",
   "nbconvert_exporter": "python",
   "pygments_lexer": "ipython3",
   "version": "3.12.3"
  }
 },
 "nbformat": 4,
 "nbformat_minor": 5
}
