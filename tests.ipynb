{
 "cells": [
  {
   "cell_type": "code",
   "execution_count": 2,
   "id": "8335c996-0fc0-48a7-b747-c179bd95c011",
   "metadata": {},
   "outputs": [
    {
     "name": "stdout",
     "output_type": "stream",
     "text": [
      "[NbConvertApp] Converting notebook repair.ipynb to script\n",
      "[NbConvertApp] Writing 9930 bytes to repair.py\n"
     ]
    }
   ],
   "source": [
    "!jupyter nbconvert --to script repair.ipynb\n",
    "from repair import *\n",
    "import pickle\n",
    "f = open(\"test_results.pkl\", \"rb\")\n",
    "test_results = pickle.load(f)\n",
    "f.close()"
   ]
  },
  {
   "cell_type": "code",
   "execution_count": 3,
   "id": "36b10cf3-5ba0-49bd-a84d-511fe8af656f",
   "metadata": {
    "jupyter": {
     "source_hidden": true
    }
   },
   "outputs": [],
   "source": [
    "def side_by_side(lines1, lines2, gap=4):\n",
    "    max_len = max(len(lines1), len(lines2))\n",
    "    lines1 += [''] * (max_len - len(lines1))\n",
    "    lines2 += [''] * (max_len - len(lines2))\n",
    "    return [f\"{a:<60}{' ' * gap}{b}\" for a, b in zip(lines1, lines2)]\n",
    "    \n",
    "def side_by_side_dicts(dict1, dict2):\n",
    "    for i in range(len(dict1)):\n",
    "        val1 = str(dict1[i])\n",
    "        val2 = str(dict2[i])\n",
    "        print(f\"{str(i):<6} {val1:<30}    {val2}\")\n",
    "\n",
    "def compare_structures(obj1, obj2):\n",
    "    eq = True\n",
    "    if isinstance(obj1, list) and isinstance(obj2, list):\n",
    "        if len(obj1) != len(obj2):\n",
    "            print(f\"List lengths differ: {len(obj1)} vs {len(obj2)}\")\n",
    "            eq = False\n",
    "        for i, (a, b) in enumerate(zip(obj1, obj2)):\n",
    "            if a != b:\n",
    "                eq = False\n",
    "                print(f\"List elements differ at index {i}:\\n  Left:  {a}\\n  Right: {b}\")\n",
    "        if len(obj1) != len(obj2):\n",
    "            extra = obj1[len(obj2):] if len(obj1) > len(obj2) else obj2[len(obj1):]\n",
    "            eq = False\n",
    "            print(f\"Extra elements in {'left' if len(obj1) > len(obj2) else 'right'} list: {extra}\")\n",
    "\n",
    "    elif isinstance(obj1, dict) and isinstance(obj2, dict):\n",
    "        keys1 = set(obj1.keys())\n",
    "        keys2 = set(obj2.keys())\n",
    "        all_keys = keys1 | keys2\n",
    "        for key in all_keys:\n",
    "            a = obj1.get(key, None)\n",
    "            b = obj2.get(key, None)\n",
    "            if a != b:\n",
    "                eq = False\n",
    "                print(f\"Dict entries differ for key {key}:\\n  Left:  {a}\\n  Right: {b}\")\n",
    "    else:\n",
    "        eq = False\n",
    "        print(\"Unsupported types for comparison. Use only lists or dicts.\")\n",
    "    if eq:\n",
    "        print(\"OK\")\n",
    "    return eq"
   ]
  },
  {
   "cell_type": "code",
   "execution_count": 4,
   "id": "ed4eecd7-31f2-4b9e-92b8-2a3659fe9a41",
   "metadata": {
    "jupyter": {
     "source_hidden": true
    }
   },
   "outputs": [],
   "source": [
    "import copy\n",
    "\n",
    "active_k_tuples_before= None \n",
    "active_k_tuples_after= None \n",
    "sequence_before= None \n",
    "sequence_after= None \n",
    "priority_queue_before= None \n",
    "priority_queue_after= None \n",
    "\n",
    "\n",
    "def debug(string, k_tuple, new_symbol):\n",
    "    \n",
    "    global active_k_tuples_before\n",
    "    global active_k_tuples_after\n",
    "    global sequence_before\n",
    "    global sequence_after\n",
    "    global priority_queue_before\n",
    "    global priority_queue_after\n",
    "\n",
    "    sequence, active_k_tuples = construct_active_k_tuples_and_sequence(string_to_symbol_list(string, 2)[0], 2)\n",
    "    priority_queue = construct_priority_queue(active_k_tuples)\n",
    "\n",
    "    active_k_tuples_before = copy.deepcopy(active_k_tuples)\n",
    "    sequence_before = copy.deepcopy(sequence)\n",
    "    priority_queue_before = copy.deepcopy(priority_queue)\n",
    "    \n",
    "    replace_active_k_tuple(priority_queue, active_k_tuples, sequence, k_tuple, new_symbol, 2)\n",
    "\n",
    "    active_k_tuples_after = copy.deepcopy(active_k_tuples)\n",
    "    sequence_after = copy.deepcopy(sequence)\n",
    "    priority_queue_after = copy.deepcopy(priority_queue)"
   ]
  },
  {
   "cell_type": "code",
   "execution_count": 5,
   "id": "372abc7e-11ff-493a-87be-c05112630446",
   "metadata": {},
   "outputs": [],
   "source": [
    "import pickle\n",
    "def save_test_results(name):\n",
    "    \n",
    "    test_results[name] = {\n",
    "        \"active_k_tuples_before\": active_k_tuples_before,\n",
    "        \"active_k_tuples_after\": active_k_tuples_after,\n",
    "        \"sequence_before\": sequence_before,\n",
    "        \"sequence_after\": sequence_after,\n",
    "        \"priority_queue_before\": priority_queue_before,\n",
    "        \"priority_queue_after\": priority_queue_after,\n",
    "    }\n",
    "    file = open(\"test_results.pkl\", \"wb\")\n",
    "    pickle.dump(test_results, file)\n",
    "    file.close()"
   ]
  },
  {
   "cell_type": "code",
   "execution_count": 6,
   "id": "6687cec8-36d8-40e1-9d20-1093451b884e",
   "metadata": {
    "jupyter": {
     "source_hidden": true
    }
   },
   "outputs": [],
   "source": [
    "def compare_test_results(name):\n",
    "\n",
    "    eq = True\n",
    "\n",
    "    print(\"active_k_tuples_before:\")\n",
    "    eq = eq and compare_structures(test_results[name][\"active_k_tuples_before\"],active_k_tuples_before)\n",
    "    print(\"priority_queue_before:\")\n",
    "    eq = eq and compare_structures(test_results[name][\"priority_queue_before\"],priority_queue_before)\n",
    "    print(\"sequence_before:\")\n",
    "    eq = eq and compare_structures(test_results[name][\"sequence_before\"],sequence_before)\n",
    "    print(\"active_k_tuples_after:\")\n",
    "    eq = eq and compare_structures(test_results[name][\"active_k_tuples_after\"],active_k_tuples_after)\n",
    "    print(\"sequence_after:\")\n",
    "    eq = eq and compare_structures(test_results[name][\"sequence_after\"],sequence_after)\n",
    "    print(\"priority_queue_after:\")\n",
    "    eq = eq and compare_structures(test_results[name][\"priority_queue_after\"],priority_queue_after)\n",
    "\n",
    "    print(\"-------------------------------------------------------------------------------------------\")\n",
    "    if eq:\n",
    "        print(\"                                          OK                                               \")\n",
    "    else:\n",
    "        print(\"                                        ERROR                                              \")\n",
    "    print(\"-------------------------------------------------------------------------------------------\")"
   ]
  },
  {
   "cell_type": "code",
   "execution_count": 7,
   "id": "da964982-beaf-493c-bc31-d8d634e1c03f",
   "metadata": {
    "jupyter": {
     "source_hidden": true
    }
   },
   "outputs": [],
   "source": [
    "def show_test_results():\n",
    "    \n",
    "    print(\"\\n\" + \"-\" * 100)\n",
    "    print(\"Active K-Tuples (before vs after)\")\n",
    "    for line in side_by_side(KTupleInfo.get_print_lines(active_k_tuples_before),KTupleInfo.get_print_lines(active_k_tuples_after)):\n",
    "        print(line)\n",
    "\n",
    "    print(\"\\n\" + \"-\" * 100)\n",
    "    print(\"Sequence (before vs after)\")\n",
    "    for line in side_by_side(SequenceElement.get_print_lines(sequence_before), SequenceElement.get_print_lines(sequence_after)):\n",
    "        print(line)\n",
    "    print(\"-\" * 100)\n",
    "\n",
    "    print(\"\\n\" + \"-\" * 100)\n",
    "    print(\"Priority queue (before vs after)\")\n",
    "    side_by_side_dicts(priority_queue_before, priority_queue_after)\n",
    "    print(\"-\" * 100)\n",
    "\t"
   ]
  },
  {
   "cell_type": "code",
   "execution_count": 8,
   "id": "59baf903-52ad-471d-91ef-8ec66079c0d3",
   "metadata": {
    "editable": true,
    "slideshow": {
     "slide_type": ""
    },
    "tags": []
   },
   "outputs": [
    {
     "name": "stdout",
     "output_type": "stream",
     "text": [
      "\n",
      "----------------------------------------------------------------------------------------------------\n",
      "Active K-Tuples (before vs after)\n",
      "Key    Count  Last                                              Key    Count  Last  \n",
      "--------------------------------                                --------------------------------\n",
      "(-2, 0) 1      1                                                (-2, 0) 1      1     \n",
      "(0, 1) 2      4                                                 (1, -2) 1      5     \n",
      "(1, 0) 1      3                                                 (0, 3) 1      3     \n",
      "(1, -2) 1      5                                                (3, 1) 1      4     \n",
      "\n",
      "----------------------------------------------------------------------------------------------------\n",
      "Sequence (before vs after)\n",
      "Index  Symbol     Pos    PrevKTuple   NextKTuple                Index  Symbol     Pos    PrevKTuple   NextKTuple  \n",
      "--------------------------------------------------              --------------------------------------------------\n",
      "0      -2         0      -1           -1                        0      -2         0      -1           -1          \n",
      "1      0          1      -1           -1                        1      0          1      -1           -1          \n",
      "2      1          2      -1           4                         2      -1         2      1            3           \n",
      "3      0          3      -1           -1                        3      3          3      -1           -1          \n",
      "4      1          4      2            -1                        4      1          4      -1           -1          \n",
      "5      -2         5      -1           -1                        5      -2         5      -1           -1          \n",
      "----------------------------------------------------------------------------------------------------\n",
      "\n",
      "----------------------------------------------------------------------------------------------------\n",
      "Priority queue (before vs after)\n",
      "0      set()                             set()\n",
      "1      {(-2, 0), (1, 0), (1, -2)}        {(-2, 0), (1, -2), (0, 3), (3, 1)}\n",
      "2      {(0, 1)}                          set()\n",
      "----------------------------------------------------------------------------------------------------\n",
      "active_k_tuples_before:\n",
      "OK\n",
      "priority_queue_before:\n",
      "OK\n",
      "sequence_before:\n",
      "OK\n",
      "active_k_tuples_after:\n",
      "OK\n",
      "sequence_after:\n",
      "OK\n",
      "priority_queue_after:\n",
      "OK\n",
      "-------------------------------------------------------------------------------------------\n",
      "                                          OK                                               \n",
      "-------------------------------------------------------------------------------------------\n"
     ]
    }
   ],
   "source": [
    "debug(\"0101\", (1,0), 3)\n",
    "name = \"two pairs replace middle\"\n",
    "show_test_results()\n",
    "# save_test_results(name)\n",
    "compare_test_results(name)"
   ]
  },
  {
   "cell_type": "code",
   "execution_count": 9,
   "id": "e7bc35f8-db79-45fd-823e-8ba47aadf7b6",
   "metadata": {
    "jupyter": {
     "source_hidden": true
    }
   },
   "outputs": [
    {
     "name": "stdout",
     "output_type": "stream",
     "text": [
      "\n",
      "----------------------------------------------------------------------------------------------------\n",
      "Active K-Tuples (before vs after)\n",
      "Key    Count  Last                                              Key    Count  Last  \n",
      "--------------------------------                                --------------------------------\n",
      "(-2, 0) 1      1                                                (-2, 0) 1      1     \n",
      "(0, 1) 1      2                                                 (3, -2) 1      5     \n",
      "(1, 2) 1      3                                                 (0, 4) 1      3     \n",
      "(2, 3) 1      4                                                 (4, 3) 1      4     \n",
      "(3, -2) 1      5                                                \n",
      "\n",
      "----------------------------------------------------------------------------------------------------\n",
      "Sequence (before vs after)\n",
      "Index  Symbol     Pos    PrevKTuple   NextKTuple                Index  Symbol     Pos    PrevKTuple   NextKTuple  \n",
      "--------------------------------------------------              --------------------------------------------------\n",
      "0      -2         0      -1           -1                        0      -2         0      -1           -1          \n",
      "1      0          1      -1           -1                        1      0          1      -1           -1          \n",
      "2      1          2      -1           -1                        2      -1         2      1            3           \n",
      "3      2          3      -1           -1                        3      4          3      -1           -1          \n",
      "4      3          4      -1           -1                        4      3          4      -1           -1          \n",
      "5      -2         5      -1           -1                        5      -2         5      -1           -1          \n",
      "----------------------------------------------------------------------------------------------------\n",
      "\n",
      "----------------------------------------------------------------------------------------------------\n",
      "Priority queue (before vs after)\n",
      "0      set()                             set()\n",
      "1      {(0, 1), (1, 2), (3, -2), (2, 3), (-2, 0)}    {(4, 3), (-2, 0), (3, -2), (0, 4)}\n",
      "----------------------------------------------------------------------------------------------------\n",
      "active_k_tuples_before:\n",
      "OK\n",
      "priority_queue_before:\n",
      "OK\n",
      "sequence_before:\n",
      "OK\n",
      "active_k_tuples_after:\n",
      "OK\n",
      "sequence_after:\n",
      "OK\n",
      "priority_queue_after:\n",
      "OK\n",
      "-------------------------------------------------------------------------------------------\n",
      "                                          OK                                               \n",
      "-------------------------------------------------------------------------------------------\n"
     ]
    }
   ],
   "source": [
    "#A and D - no old pairs elsewhere, no new pairs\n",
    "debug(\"0123\", (1,2), 4)\n",
    "name = \"no old pairs\"\n",
    "show_test_results()\n",
    "# save_test_results(name)\n",
    "compare_test_results(name)"
   ]
  },
  {
   "cell_type": "code",
   "execution_count": 10,
   "id": "6628ddd5-5497-42a7-be3d-7b14918bc4d3",
   "metadata": {
    "jupyter": {
     "source_hidden": true
    }
   },
   "outputs": [
    {
     "name": "stdout",
     "output_type": "stream",
     "text": [
      "\n",
      "----------------------------------------------------------------------------------------------------\n",
      "Active K-Tuples (before vs after)\n",
      "Key    Count  Last                                              Key    Count  Last  \n",
      "--------------------------------                                --------------------------------\n",
      "(-2, 0) 1      1                                                (-2, 0) 1      1     \n",
      "(0, 1) 3      10                                                (0, 1) 2      10    \n",
      "(1, 2) 2      11                                                (1, 2) 2      11    \n",
      "(2, 3) 3      12                                                (2, 3) 2      12    \n",
      "(3, 2) 1      5                                                 (3, 2) 1      5     \n",
      "(3, 0) 1      7                                                 (1, 0) 1      9     \n",
      "(1, 0) 1      9                                                 (3, -2) 1      13    \n",
      "(3, -2) 1      13                                               (2, 5) 1      7     \n",
      "                                                                (5, 1) 1      8     \n",
      "\n",
      "----------------------------------------------------------------------------------------------------\n",
      "Sequence (before vs after)\n",
      "Index  Symbol     Pos    PrevKTuple   NextKTuple                Index  Symbol     Pos    PrevKTuple   NextKTuple  \n",
      "--------------------------------------------------              --------------------------------------------------\n",
      "0      -2         0      -1           -1                        0      -2         0      -1           -1          \n",
      "1      0          1      -1           -1                        1      0          1      -1           -1          \n",
      "2      1          2      -1           8                         2      1          2      -1           10          \n",
      "3      2          3      -1           11                        3      2          3      -1           11          \n",
      "4      3          4      -1           6                         4      3          4      -1           12          \n",
      "5      2          5      -1           -1                        5      2          5      -1           -1          \n",
      "6      3          6      4            12                        6      -1         6      5            7           \n",
      "7      0          7      -1           -1                        7      5          7      -1           -1          \n",
      "8      1          8      2            10                        8      1          8      -1           -1          \n",
      "9      0          9      -1           -1                        9      0          9      -1           -1          \n",
      "10     1          10     8            -1                        10     1          10     2            -1          \n",
      "11     2          11     3            -1                        11     2          11     3            -1          \n",
      "12     3          12     6            -1                        12     3          12     4            -1          \n",
      "13     -2         13     -1           -1                        13     -2         13     -1           -1          \n",
      "----------------------------------------------------------------------------------------------------\n",
      "\n",
      "----------------------------------------------------------------------------------------------------\n",
      "Priority queue (before vs after)\n",
      "0      set()                             set()\n",
      "1      {(3, -2), (3, 0), (-2, 0), (1, 0), (3, 2)}    {(3, -2), (5, 1), (-2, 0), (1, 0), (3, 2), (2, 5)}\n",
      "2      {(1, 2)}                          {(0, 1), (1, 2), (2, 3)}\n",
      "3      {(0, 1), (2, 3)}                  set()\n",
      "----------------------------------------------------------------------------------------------------\n",
      "active_k_tuples_before:\n",
      "OK\n",
      "priority_queue_before:\n",
      "OK\n",
      "sequence_before:\n",
      "OK\n",
      "active_k_tuples_after:\n",
      "OK\n",
      "sequence_after:\n",
      "OK\n",
      "priority_queue_after:\n",
      "OK\n",
      "-------------------------------------------------------------------------------------------\n",
      "                                          OK                                               \n",
      "-------------------------------------------------------------------------------------------\n"
     ]
    }
   ],
   "source": [
    "#A and D - old pairs to left and right\n",
    "debug(\"012323010123\", (3,0), 5)\n",
    "name = \"old pairs left to right\"\n",
    "show_test_results()\n",
    "# save_test_results(name)\n",
    "compare_test_results(name)"
   ]
  },
  {
   "cell_type": "code",
   "execution_count": 11,
   "id": "adbfdfec-2f08-4624-8584-8d06dc576cd5",
   "metadata": {},
   "outputs": [
    {
     "name": "stdout",
     "output_type": "stream",
     "text": [
      "\n",
      "----------------------------------------------------------------------------------------------------\n",
      "Active K-Tuples (before vs after)\n",
      "Key    Count  Last                                              Key    Count  Last  \n",
      "--------------------------------                                --------------------------------\n",
      "(-2, 0) 1      1                                                (-2, 0) 1      1     \n",
      "(0, 1) 2      8                                                 (0, 1) 1      2     \n",
      "(1, 2) 1      3                                                 (1, 2) 1      3     \n",
      "(2, 3) 2      6                                                 (2, 3) 1      4     \n",
      "(3, 2) 1      5                                                 (3, 2) 1      5     \n",
      "(3, 0) 1      7                                                 (1, -2) 1      9     \n",
      "(1, -2) 1      9                                                (2, 5) 1      7     \n",
      "                                                                (5, 1) 1      8     \n",
      "\n",
      "----------------------------------------------------------------------------------------------------\n",
      "Sequence (before vs after)\n",
      "Index  Symbol     Pos    PrevKTuple   NextKTuple                Index  Symbol     Pos    PrevKTuple   NextKTuple  \n",
      "--------------------------------------------------              --------------------------------------------------\n",
      "0      -2         0      -1           -1                        0      -2         0      -1           -1          \n",
      "1      0          1      -1           -1                        1      0          1      -1           -1          \n",
      "2      1          2      -1           8                         2      1          2      -1           -1          \n",
      "3      2          3      -1           -1                        3      2          3      -1           -1          \n",
      "4      3          4      -1           6                         4      3          4      -1           -1          \n",
      "5      2          5      -1           -1                        5      2          5      -1           -1          \n",
      "6      3          6      4            -1                        6      -1         6      5            7           \n",
      "7      0          7      -1           -1                        7      5          7      -1           -1          \n",
      "8      1          8      2            -1                        8      1          8      -1           -1          \n",
      "9      -2         9      -1           -1                        9      -2         9      -1           -1          \n",
      "----------------------------------------------------------------------------------------------------\n",
      "\n",
      "----------------------------------------------------------------------------------------------------\n",
      "Priority queue (before vs after)\n",
      "0      set()                             set()\n",
      "1      {(1, 2), (1, -2), (3, 0), (-2, 0), (3, 2)}    {(0, 1), (1, 2), (5, 1), (1, -2), (-2, 0), (2, 3), (3, 2), (2, 5)}\n",
      "2      {(0, 1), (2, 3)}                  set()\n",
      "----------------------------------------------------------------------------------------------------\n",
      "active_k_tuples_before:\n",
      "OK\n",
      "priority_queue_before:\n",
      "OK\n",
      "sequence_before:\n",
      "OK\n",
      "active_k_tuples_after:\n",
      "OK\n",
      "sequence_after:\n",
      "OK\n",
      "priority_queue_after:\n",
      "OK\n",
      "-------------------------------------------------------------------------------------------\n",
      "                                          OK                                               \n",
      "-------------------------------------------------------------------------------------------\n"
     ]
    }
   ],
   "source": [
    "#first old pairs replaced - updates in the .last \n",
    "debug(\"01232301\", (3,0), 5)\n",
    "\n",
    "name = \"first old pairs replaced\"\n",
    "show_test_results()\n",
    "# save_test_results(name)\n",
    "compare_test_results(name)"
   ]
  },
  {
   "cell_type": "code",
   "execution_count": 12,
   "id": "d75d4a4e-7fb9-4642-a25e-08a49018b270",
   "metadata": {},
   "outputs": [
    {
     "name": "stdout",
     "output_type": "stream",
     "text": [
      "\n",
      "----------------------------------------------------------------------------------------------------\n",
      "Active K-Tuples (before vs after)\n",
      "Key    Count  Last                                              Key    Count  Last  \n",
      "--------------------------------                                --------------------------------\n",
      "(-2, 0) 1      1                                                (2, -2) 1      5     \n",
      "(0, 1) 2      4                                                 (-2, 2) 1      2     \n",
      "(1, 0) 1      3                                                 (2, 2) 1      4     \n",
      "(1, -2) 1      5                                                \n",
      "\n",
      "----------------------------------------------------------------------------------------------------\n",
      "Sequence (before vs after)\n",
      "Index  Symbol     Pos    PrevKTuple   NextKTuple                Index  Symbol     Pos    PrevKTuple   NextKTuple  \n",
      "--------------------------------------------------              --------------------------------------------------\n",
      "0      -2         0      -1           -1                        0      -2         0      -1           -1          \n",
      "1      0          1      -1           -1                        1      -1         1      0            2           \n",
      "2      1          2      -1           4                         2      2          2      -1           -1          \n",
      "3      0          3      -1           -1                        3      -1         3      2            4           \n",
      "4      1          4      2            -1                        4      2          4      -1           -1          \n",
      "5      -2         5      -1           -1                        5      -2         5      -1           -1          \n",
      "----------------------------------------------------------------------------------------------------\n",
      "\n",
      "----------------------------------------------------------------------------------------------------\n",
      "Priority queue (before vs after)\n",
      "0      set()                             set()\n",
      "1      {(-2, 0), (1, 0), (1, -2)}        {(2, -2), (-2, 2), (2, 2)}\n",
      "2      {(0, 1)}                          set()\n",
      "----------------------------------------------------------------------------------------------------\n",
      "active_k_tuples_before:\n",
      "OK\n",
      "priority_queue_before:\n",
      "OK\n",
      "sequence_before:\n",
      "OK\n",
      "active_k_tuples_after:\n",
      "OK\n",
      "sequence_after:\n",
      "OK\n",
      "priority_queue_after:\n",
      "OK\n",
      "-------------------------------------------------------------------------------------------\n",
      "                                          OK                                               \n",
      "-------------------------------------------------------------------------------------------\n"
     ]
    }
   ],
   "source": [
    "# ABAB - replacing BA\n",
    "debug(\"0101\", (0,1), 2)\n",
    "name = \"0101 replacing sides\"\n",
    "show_test_results()\n",
    "# save_test_results(name)\n",
    "compare_test_results(name)"
   ]
  },
  {
   "cell_type": "code",
   "execution_count": 13,
   "id": "74bc4fae-85bd-41c7-b2c1-bf2be9df1e9c",
   "metadata": {
    "editable": true,
    "slideshow": {
     "slide_type": ""
    },
    "tags": []
   },
   "outputs": [
    {
     "name": "stdout",
     "output_type": "stream",
     "text": [
      "\n",
      "----------------------------------------------------------------------------------------------------\n",
      "Active K-Tuples (before vs after)\n",
      "Key    Count  Last                                              Key    Count  Last  \n",
      "--------------------------------                                --------------------------------\n",
      "(-2, 0) 1      1                                                (3, -2) 1      7     \n",
      "(0, 1) 3      6                                                 (3, 3) 2      6     \n",
      "(1, 0) 2      5                                                 (-2, 3) 1      2     \n",
      "(1, -2) 1      7                                                \n",
      "\n",
      "----------------------------------------------------------------------------------------------------\n",
      "Sequence (before vs after)\n",
      "Index  Symbol     Pos    PrevKTuple   NextKTuple                Index  Symbol     Pos    PrevKTuple   NextKTuple  \n",
      "--------------------------------------------------              --------------------------------------------------\n",
      "0      -2         0      -1           -1                        0      -2         0      -1           -1          \n",
      "1      0          1      -1           -1                        1      -1         1      0            2           \n",
      "2      1          2      -1           4                         2      3          2      -1           -1          \n",
      "3      0          3      -1           5                         3      -1         3      2            4           \n",
      "4      1          4      2            6                         4      3          4      -1           6           \n",
      "5      0          5      3            -1                        5      -1         5      4            6           \n",
      "6      1          6      4            -1                        6      3          6      4            -1          \n",
      "7      -2         7      -1           -1                        7      -2         7      -1           -1          \n",
      "----------------------------------------------------------------------------------------------------\n",
      "\n",
      "----------------------------------------------------------------------------------------------------\n",
      "Priority queue (before vs after)\n",
      "0      set()                             set()\n",
      "1      {(-2, 0), (1, -2)}                {(-2, 3), (3, -2)}\n",
      "2      {(1, 0)}                          {(3, 3)}\n",
      "3      {(0, 1)}                          set()\n",
      "----------------------------------------------------------------------------------------------------\n",
      "active_k_tuples_before:\n",
      "OK\n",
      "priority_queue_before:\n",
      "OK\n",
      "sequence_before:\n",
      "OK\n",
      "active_k_tuples_after:\n",
      "OK\n",
      "sequence_after:\n",
      "OK\n",
      "priority_queue_after:\n",
      "OK\n",
      "-------------------------------------------------------------------------------------------\n",
      "                                          OK                                               \n",
      "-------------------------------------------------------------------------------------------\n"
     ]
    }
   ],
   "source": [
    "debug(\"010101\", (0,1), 3)\n",
    "name = \"010101 replacing 01\"\n",
    "show_test_results()\n",
    "# save_test_results(name)\n",
    "compare_test_results(name)"
   ]
  },
  {
   "cell_type": "code",
   "execution_count": 14,
   "id": "19734612-b895-4841-87b4-9bc37652d641",
   "metadata": {
    "editable": true,
    "slideshow": {
     "slide_type": ""
    },
    "tags": []
   },
   "outputs": [
    {
     "name": "stdout",
     "output_type": "stream",
     "text": [
      "\n",
      "----------------------------------------------------------------------------------------------------\n",
      "Active K-Tuples (before vs after)\n",
      "Key    Count  Last                                              Key    Count  Last  \n",
      "--------------------------------                                --------------------------------\n",
      "(-2, 0) 1      1                                                (-2, 0) 1      1     \n",
      "(0, 0) 2      3                                                 (0, 3) 1      3     \n",
      "(0, -2) 1      4                                                (3, -2) 1      4     \n",
      "\n",
      "----------------------------------------------------------------------------------------------------\n",
      "Sequence (before vs after)\n",
      "Index  Symbol     Pos    PrevKTuple   NextKTuple                Index  Symbol     Pos    PrevKTuple   NextKTuple  \n",
      "--------------------------------------------------              --------------------------------------------------\n",
      "0      -2         0      -1           -1                        0      -2         0      -1           -1          \n",
      "1      0          1      -1           -1                        1      0          1      -1           -1          \n",
      "2      0          2      -1           3                         2      -1         2      1            3           \n",
      "3      0          3      2            -1                        3      3          3      -1           -1          \n",
      "4      -2         4      -1           -1                        4      -2         4      -1           -1          \n",
      "----------------------------------------------------------------------------------------------------\n",
      "\n",
      "----------------------------------------------------------------------------------------------------\n",
      "Priority queue (before vs after)\n",
      "0      set()                             set()\n",
      "1      {(-2, 0), (0, -2)}                {(-2, 0), (0, 3), (3, -2)}\n",
      "2      {(0, 0)}                          set()\n",
      "----------------------------------------------------------------------------------------------------\n",
      "active_k_tuples_before:\n",
      "OK\n",
      "priority_queue_before:\n",
      "OK\n",
      "sequence_before:\n",
      "OK\n",
      "active_k_tuples_after:\n",
      "OK\n",
      "sequence_after:\n",
      "OK\n",
      "priority_queue_after:\n",
      "OK\n",
      "-------------------------------------------------------------------------------------------\n",
      "                                          OK                                               \n",
      "-------------------------------------------------------------------------------------------\n"
     ]
    }
   ],
   "source": [
    "debug(\"000\", (0,0), 3)\n",
    "\n",
    "name = \"interlocking 2 pairs\"\n",
    "show_test_results()\n",
    "# save_test_results(name)\n",
    "compare_test_results(name)"
   ]
  },
  {
   "cell_type": "code",
   "execution_count": 15,
   "id": "f53e97eb-0ab2-4b9d-b73f-e59021b381d1",
   "metadata": {
    "editable": true,
    "slideshow": {
     "slide_type": ""
    },
    "tags": []
   },
   "outputs": [
    {
     "name": "stdout",
     "output_type": "stream",
     "text": [
      "\n",
      "----------------------------------------------------------------------------------------------------\n",
      "Active K-Tuples (before vs after)\n",
      "Key    Count  Last                                              Key    Count  Last  \n",
      "--------------------------------                                --------------------------------\n",
      "(-2, 0) 1      1                                                (3, -2) 1      5     \n",
      "(0, 0) 3      4                                                 (-2, 3) 1      2     \n",
      "(0, -2) 1      5                                                (3, 3) 1      4     \n",
      "\n",
      "----------------------------------------------------------------------------------------------------\n",
      "Sequence (before vs after)\n",
      "Index  Symbol     Pos    PrevKTuple   NextKTuple                Index  Symbol     Pos    PrevKTuple   NextKTuple  \n",
      "--------------------------------------------------              --------------------------------------------------\n",
      "0      -2         0      -1           -1                        0      -2         0      -1           -1          \n",
      "1      0          1      -1           -1                        1      -1         1      0            2           \n",
      "2      0          2      -1           3                         2      3          2      -1           -1          \n",
      "3      0          3      2            4                         3      -1         3      2            4           \n",
      "4      0          4      3            -1                        4      3          4      -1           -1          \n",
      "5      -2         5      -1           -1                        5      -2         5      -1           -1          \n",
      "----------------------------------------------------------------------------------------------------\n",
      "\n",
      "----------------------------------------------------------------------------------------------------\n",
      "Priority queue (before vs after)\n",
      "0      set()                             set()\n",
      "1      {(-2, 0), (0, -2)}                {(-2, 3), (3, 3), (3, -2)}\n",
      "2      set()                             set()\n",
      "3      {(0, 0)}                          set()\n",
      "----------------------------------------------------------------------------------------------------\n",
      "active_k_tuples_before:\n",
      "OK\n",
      "priority_queue_before:\n",
      "OK\n",
      "sequence_before:\n",
      "OK\n",
      "active_k_tuples_after:\n",
      "OK\n",
      "sequence_after:\n",
      "OK\n",
      "priority_queue_after:\n",
      "OK\n",
      "-------------------------------------------------------------------------------------------\n",
      "                                          OK                                               \n",
      "-------------------------------------------------------------------------------------------\n",
      "important! in this case we create a new active_k_tuple which is then remvoed!!!\n"
     ]
    }
   ],
   "source": [
    "debug(\"0000\", (0,0), 3)\n",
    "\n",
    "name = \"interlocking 3 pairs\"\n",
    "show_test_results()\n",
    "# save_test_results(name)\n",
    "compare_test_results(name)\n",
    "print(\"important! in this case we create a new active_k_tuple which is then remvoed!!!\")"
   ]
  },
  {
   "cell_type": "code",
   "execution_count": 28,
   "id": "4ee62bd7-5360-46d8-a751-0ae4f827a688",
   "metadata": {},
   "outputs": [
    {
     "ename": "TypeError",
     "evalue": "string_to_symbol_list() missing 1 required positional argument: 'k'",
     "output_type": "error",
     "traceback": [
      "\u001b[31m---------------------------------------------------------------------------\u001b[39m",
      "\u001b[31mTypeError\u001b[39m                                 Traceback (most recent call last)",
      "\u001b[36mCell\u001b[39m\u001b[36m \u001b[39m\u001b[32mIn[28]\u001b[39m\u001b[32m, line 1\u001b[39m\n\u001b[32m----> \u001b[39m\u001b[32m1\u001b[39m s, a = construct_active_k_tuples_and_sequence(\u001b[43mstring_to_symbol_list\u001b[49m\u001b[43m(\u001b[49m\u001b[33;43m\"\u001b[39;49m\u001b[33;43m0101\u001b[39;49m\u001b[33;43m\"\u001b[39;49m\u001b[43m)\u001b[49m[\u001b[32m0\u001b[39m], \u001b[32m2\u001b[39m)\n\u001b[32m      2\u001b[39m \u001b[38;5;28;01mfor\u001b[39;00m x \u001b[38;5;129;01min\u001b[39;00m SequenceElement.get_print_lines(s): \u001b[38;5;28mprint\u001b[39m(x)\n\u001b[32m      3\u001b[39m \u001b[38;5;28;01mfor\u001b[39;00m x \u001b[38;5;129;01min\u001b[39;00m KTupleInfo.get_print_lines(a): \u001b[38;5;28mprint\u001b[39m(x)\n",
      "\u001b[31mTypeError\u001b[39m: string_to_symbol_list() missing 1 required positional argument: 'k'"
     ]
    }
   ],
   "source": [
    "s, a = construct_active_k_tuples_and_sequence(string_to_symbol_list(\"0101\")[0], 2)\n",
    "for x in SequenceElement.get_print_lines(s): print(x)\n",
    "for x in KTupleInfo.get_print_lines(a): print(x)"
   ]
  },
  {
   "cell_type": "code",
   "execution_count": null,
   "id": "5cad4155-b34b-42c9-b163-c932e2aded8e",
   "metadata": {},
   "outputs": [],
   "source": [
    "s, a = construct_active_k_tuples_and_sequence(string_to_symbol_list(\"000\")[0], 2)\n",
    "for x in SequenceElement.get_print_lines(s): print(x)\n",
    "for x in KTupleInfo.get_print_lines(a): print(x)"
   ]
  },
  {
   "cell_type": "code",
   "execution_count": null,
   "id": "bf060c26-6f56-4aab-a32d-5d872d62bc1e",
   "metadata": {},
   "outputs": [],
   "source": [
    "s, a = construct_active_k_tuples_and_sequence(string_to_symbol_list(\"012012\")[0], 2)\n",
    "SequenceElement.print_list(s)\n",
    "KTupleInfo.print_dict(a)"
   ]
  },
  {
   "cell_type": "code",
   "execution_count": 69,
   "id": "bfb399fa-6639-44d3-97a7-2ab1eed51212",
   "metadata": {
    "collapsed": true,
    "jupyter": {
     "outputs_hidden": true
    },
    "scrolled": true
   },
   "outputs": [
    {
     "name": "stdout",
     "output_type": "stream",
     "text": [
      "active_k_tuples before\n",
      "Key    Count  Last   PosInQueue  \n",
      "--------------------------------\n",
      "(0, 1) 2      4      -1          \n",
      "(1, 2) 2      5      -1          \n",
      "(2, 0) 1      3      -1          \n",
      "active_k_tuples after\n",
      "Key    Count  Last   PosInQueue  \n",
      "--------------------------------\n",
      "(0, 1) 2      4      0           \n",
      "(1, 2) 2      5      1           \n",
      "(2, 0) 1      3      0           \n",
      "priority queue\n",
      "{1: [(2, 0)], 2: [(0, 1), (1, 2)]}\n"
     ]
    }
   ],
   "source": [
    "sequence, active_k_tuples = construct_active_k_tuples_and_sequence(string_to_symbol_list(\"012012\")[0], 2)\n",
    "print(\"active_k_tuples before\")\n",
    "KTupleInfo.print_dict(active_k_tuples)\n",
    "priority_queue = construct_priority_queue(active_k_tuples)\n",
    "print(\"active_k_tuples after\")\n",
    "KTupleInfo.print_dict(active_k_tuples)\n",
    "print(\"priority queue\")\n",
    "pprint(priority_queue)"
   ]
  }
 ],
 "metadata": {
  "kernelspec": {
   "display_name": "Python 3 (ipykernel)",
   "language": "python",
   "name": "python3"
  },
  "language_info": {
   "codemirror_mode": {
    "name": "ipython",
    "version": 3
   },
   "file_extension": ".py",
   "mimetype": "text/x-python",
   "name": "python",
   "nbconvert_exporter": "python",
   "pygments_lexer": "ipython3",
   "version": "3.12.3"
  }
 },
 "nbformat": 4,
 "nbformat_minor": 5
}
