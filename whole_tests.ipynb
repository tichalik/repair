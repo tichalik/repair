{
 "cells": [
  {
   "cell_type": "code",
   "execution_count": 1,
   "id": "0f190c52-02db-40c0-a7c7-df28ac3026de",
   "metadata": {},
   "outputs": [
    {
     "name": "stdout",
     "output_type": "stream",
     "text": [
      "[NbConvertApp] Converting notebook repair.ipynb to script\n",
      "[NbConvertApp] Writing 11460 bytes to repair.py\n"
     ]
    }
   ],
   "source": [
    "!jupyter nbconvert --to script repair.ipynb\n",
    "from repair import *"
   ]
  },
  {
   "cell_type": "code",
   "execution_count": 2,
   "id": "4a3aa22e-43fc-421d-8a68-eccefdb468fc",
   "metadata": {},
   "outputs": [],
   "source": [
    "def debug(string, k):\n",
    "    char_to_symbol_dict, symbol_to_k_tuple, sequence = repair(string, k)\n",
    "    # print(char_to_symbol_dict, symbol_to_k_tuple, sequence)\n",
    "    res = despair(char_to_symbol_dict, symbol_to_k_tuple, sequence)\n",
    "    # print(res)\n",
    "    print(res == string)"
   ]
  },
  {
   "cell_type": "code",
   "execution_count": 4,
   "id": "245556c3-9bfb-445d-8023-02ce491194ed",
   "metadata": {},
   "outputs": [
    {
     "name": "stdout",
     "output_type": "stream",
     "text": [
      "True\n"
     ]
    }
   ],
   "source": [
    "debug(\"012012\",2)"
   ]
  },
  {
   "cell_type": "code",
   "execution_count": 6,
   "id": "699cfb26-9acf-48b2-82ea-200b7c0f8a57",
   "metadata": {},
   "outputs": [
    {
     "name": "stdout",
     "output_type": "stream",
     "text": [
      "True\n"
     ]
    }
   ],
   "source": [
    "debug(\"sdalkfjaljf012klasdjleqaaskddjfalkjsdkalksddladkfakj012\",2)"
   ]
  },
  {
   "cell_type": "code",
   "execution_count": 7,
   "id": "d046b1dd-76ab-49b0-a8db-d0f34f11cb33",
   "metadata": {},
   "outputs": [
    {
     "name": "stdout",
     "output_type": "stream",
     "text": [
      "2318550\n"
     ]
    }
   ],
   "source": [
    "datapath = \"\"\n",
    "f = open(\"data/dq_eng.txt\", \"r\")\n",
    "txt = f.read()\n",
    "f.close()\n",
    "\n",
    "print(len(txt))"
   ]
  },
  {
   "cell_type": "code",
   "execution_count": 8,
   "id": "210d37af-4a5b-4f59-baab-0580a2c9362f",
   "metadata": {},
   "outputs": [
    {
     "ename": "KeyError",
     "evalue": "(25, -1)",
     "output_type": "error",
     "traceback": [
      "\u001b[31m---------------------------------------------------------------------------\u001b[39m",
      "\u001b[31mKeyError\u001b[39m                                  Traceback (most recent call last)",
      "\u001b[36mCell\u001b[39m\u001b[36m \u001b[39m\u001b[32mIn[8]\u001b[39m\u001b[32m, line 1\u001b[39m\n\u001b[32m----> \u001b[39m\u001b[32m1\u001b[39m \u001b[43mdebug\u001b[49m\u001b[43m(\u001b[49m\u001b[43mtxt\u001b[49m\u001b[43m,\u001b[49m\u001b[32;43m2\u001b[39;49m\u001b[43m)\u001b[49m\n",
      "\u001b[36mCell\u001b[39m\u001b[36m \u001b[39m\u001b[32mIn[2]\u001b[39m\u001b[32m, line 2\u001b[39m, in \u001b[36mdebug\u001b[39m\u001b[34m(string, k)\u001b[39m\n\u001b[32m      1\u001b[39m \u001b[38;5;28;01mdef\u001b[39;00m\u001b[38;5;250m \u001b[39m\u001b[34mdebug\u001b[39m(string, k):\n\u001b[32m----> \u001b[39m\u001b[32m2\u001b[39m     char_to_symbol_dict, symbol_to_k_tuple, sequence = \u001b[43mrepair\u001b[49m\u001b[43m(\u001b[49m\u001b[43mstring\u001b[49m\u001b[43m,\u001b[49m\u001b[43m \u001b[49m\u001b[43mk\u001b[49m\u001b[43m)\u001b[49m\n\u001b[32m      3\u001b[39m     \u001b[38;5;66;03m# print(char_to_symbol_dict, symbol_to_k_tuple, sequence)\u001b[39;00m\n\u001b[32m      4\u001b[39m     res = despair(char_to_symbol_dict, symbol_to_k_tuple, sequence)\n",
      "\u001b[36mFile \u001b[39m\u001b[32m/mnt/c/Users/tomek/Desktop/WORKSPACE/regex_compression/implementation/repair.py:362\u001b[39m, in \u001b[36mrepair\u001b[39m\u001b[34m(string, k)\u001b[39m\n\u001b[32m    360\u001b[39m \u001b[38;5;28;01mwhile\u001b[39;00m priority_queue[i]:\n\u001b[32m    361\u001b[39m     to_replace = priority_queue[i].pop()\n\u001b[32m--> \u001b[39m\u001b[32m362\u001b[39m     \u001b[43mreplace_active_k_tuple\u001b[49m\u001b[43m(\u001b[49m\u001b[43mpriority_queue\u001b[49m\u001b[43m,\u001b[49m\u001b[43m \u001b[49m\u001b[43mactive_k_tuples\u001b[49m\u001b[43m,\u001b[49m\u001b[43m \u001b[49m\u001b[43msequence\u001b[49m\u001b[43m,\u001b[49m\u001b[43m \u001b[49m\u001b[43mto_replace\u001b[49m\u001b[43m,\u001b[49m\u001b[43m \u001b[49m\u001b[43mnext_symbol\u001b[49m\u001b[43m,\u001b[49m\u001b[43m \u001b[49m\u001b[43mk\u001b[49m\u001b[43m)\u001b[49m\n\u001b[32m    363\u001b[39m     symbol_to_k_tuple[next_symbol] = to_replace\n\u001b[32m    364\u001b[39m     next_symbol += \u001b[32m1\u001b[39m\n",
      "\u001b[36mFile \u001b[39m\u001b[32m/mnt/c/Users/tomek/Desktop/WORKSPACE/regex_compression/implementation/repair.py:225\u001b[39m, in \u001b[36mreplace_active_k_tuple\u001b[39m\u001b[34m(priority_queue, active_k_tuples, sequence, k_tuple, new_symbol, k)\u001b[39m\n\u001b[32m    223\u001b[39m a_AB = active_k_tuples[AB]\n\u001b[32m    224\u001b[39m a_BC = active_k_tuples[BC]\n\u001b[32m--> \u001b[39m\u001b[32m225\u001b[39m a_CD = \u001b[43mactive_k_tuples\u001b[49m\u001b[43m[\u001b[49m\u001b[43mCD\u001b[49m\u001b[43m]\u001b[49m\n\u001b[32m    226\u001b[39m \u001b[38;5;28;01mif\u001b[39;00m AE \u001b[38;5;129;01mnot\u001b[39;00m \u001b[38;5;129;01min\u001b[39;00m active_k_tuples:\n\u001b[32m    227\u001b[39m     active_k_tuples[AE] = KTupleInfo()\n",
      "\u001b[31mKeyError\u001b[39m: (25, -1)"
     ]
    }
   ],
   "source": [
    "debug(txt,2)"
   ]
  },
  {
   "cell_type": "code",
   "execution_count": null,
   "id": "afd3b796-0366-46a7-b522-ddc764ff0836",
   "metadata": {},
   "outputs": [],
   "source": []
  }
 ],
 "metadata": {
  "kernelspec": {
   "display_name": "Python 3 (ipykernel)",
   "language": "python",
   "name": "python3"
  },
  "language_info": {
   "codemirror_mode": {
    "name": "ipython",
    "version": 3
   },
   "file_extension": ".py",
   "mimetype": "text/x-python",
   "name": "python",
   "nbconvert_exporter": "python",
   "pygments_lexer": "ipython3",
   "version": "3.12.3"
  }
 },
 "nbformat": 4,
 "nbformat_minor": 5
}
