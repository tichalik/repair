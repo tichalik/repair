{
 "cells": [
  {
   "cell_type": "code",
   "execution_count": 1,
   "id": "0f190c52-02db-40c0-a7c7-df28ac3026de",
   "metadata": {},
   "outputs": [
    {
     "name": "stdout",
     "output_type": "stream",
     "text": [
      "[NbConvertApp] Converting notebook repair.ipynb to script\n",
      "[NbConvertApp] Writing 15329 bytes to repair.py\n"
     ]
    }
   ],
   "source": [
    "!jupyter nbconvert --to script repair.ipynb\n",
    "from repair import *"
   ]
  },
  {
   "cell_type": "code",
   "execution_count": 2,
   "id": "4a3aa22e-43fc-421d-8a68-eccefdb468fc",
   "metadata": {},
   "outputs": [],
   "source": [
    "def debug(string, k):\n",
    "    char_to_symbol_dict, symbol_to_k_tuple, sequence = repair(string, k)\n",
    "    # print(char_to_symbol_dict, symbol_to_k_tuple, sequence)\n",
    "    res = despair(char_to_symbol_dict, symbol_to_k_tuple, sequence)\n",
    "    # print(res)\n",
    "    print(res == string)"
   ]
  },
  {
   "cell_type": "code",
   "execution_count": 4,
   "id": "245556c3-9bfb-445d-8023-02ce491194ed",
   "metadata": {},
   "outputs": [
    {
     "name": "stdout",
     "output_type": "stream",
     "text": [
      "--Return--\n",
      "None\n",
      "> \u001b[32m/tmp/ipykernel_2310/687721062.py\u001b[39m(\u001b[92m2\u001b[39m)\u001b[36m<module>\u001b[39m\u001b[34m()\u001b[39m\n",
      "\u001b[32m      1\u001b[39m \u001b[38;5;28;01mimport\u001b[39;00m pdb\n",
      "\u001b[32m----> 2\u001b[39m pdb.set_trace()\n",
      "\u001b[32m      3\u001b[39m debug(\u001b[33m\"034123434\"\u001b[39m,\u001b[32m2\u001b[39m)\n",
      "\n"
     ]
    },
    {
     "name": "stdin",
     "output_type": "stream",
     "text": [
      "ipdb>  n\n"
     ]
    },
    {
     "name": "stdout",
     "output_type": "stream",
     "text": [
      "\u001b[31m    [... skipped 1 hidden frame(s)]\u001b[39m\n",
      "\n",
      "> \u001b[32m/home/tomek/py/lib/python3.12/site-packages/IPython/core/interactiveshell.py\u001b[39m(\u001b[92m3675\u001b[39m)\u001b[36mrun_code\u001b[39m\u001b[34m()\u001b[39m\n",
      "\u001b[32m   3673\u001b[39m             \u001b[38;5;28;01mfinally\u001b[39;00m:\n",
      "\u001b[32m   3674\u001b[39m                 \u001b[38;5;66;03m# Reset our crash handler in place\u001b[39;00m\n",
      "\u001b[32m-> 3675\u001b[39m                 sys.excepthook = old_excepthook\n",
      "\u001b[32m   3676\u001b[39m         \u001b[38;5;28;01mexcept\u001b[39;00m SystemExit \u001b[38;5;28;01mas\u001b[39;00m e:\n",
      "\u001b[32m   3677\u001b[39m             \u001b[38;5;28;01mif\u001b[39;00m result \u001b[38;5;28;01mis\u001b[39;00m \u001b[38;5;28;01mnot\u001b[39;00m \u001b[38;5;28;01mNone\u001b[39;00m:\n",
      "\n"
     ]
    },
    {
     "name": "stdin",
     "output_type": "stream",
     "text": [
      "ipdb>  q\n"
     ]
    }
   ],
   "source": [
    "debug(\"034123434\",2)"
   ]
  },
  {
   "cell_type": "code",
   "execution_count": 4,
   "id": "699cfb26-9acf-48b2-82ea-200b7c0f8a57",
   "metadata": {},
   "outputs": [],
   "source": [
    "# debug(\"3218AAAAA0216AAAAA2216AAAAA4219AAAAA7216AAAAA5216AAAAA5216AAAAA1216AAAAA\",2)"
   ]
  },
  {
   "cell_type": "code",
   "execution_count": 5,
   "id": "d046b1dd-76ab-49b0-a8db-d0f34f11cb33",
   "metadata": {},
   "outputs": [
    {
     "name": "stdout",
     "output_type": "stream",
     "text": [
      "2,318,550\n"
     ]
    }
   ],
   "source": [
    "datapath = \"\"\n",
    "f = open(\"data/dq_eng.txt\", \"r\")\n",
    "txt = f.read()\n",
    "f.close()\n",
    "\n",
    "print('{:,}'.format(len(txt)) )"
   ]
  },
  {
   "cell_type": "code",
   "execution_count": 6,
   "id": "210d37af-4a5b-4f59-baab-0580a2c9362f",
   "metadata": {},
   "outputs": [
    {
     "ename": "TypeError",
     "evalue": "get_prev_index() missing 1 required positional argument: 'node'",
     "output_type": "error",
     "traceback": [
      "\u001b[31m---------------------------------------------------------------------------\u001b[39m",
      "\u001b[31mTypeError\u001b[39m                                 Traceback (most recent call last)",
      "\u001b[36mCell\u001b[39m\u001b[36m \u001b[39m\u001b[32mIn[6]\u001b[39m\u001b[32m, line 1\u001b[39m\n\u001b[32m----> \u001b[39m\u001b[32m1\u001b[39m \u001b[43mdebug\u001b[49m\u001b[43m(\u001b[49m\u001b[43mtxt\u001b[49m\u001b[43m[\u001b[49m\u001b[32;43m10_500\u001b[39;49m\u001b[43m:\u001b[49m\u001b[32;43m15_000\u001b[39;49m\u001b[43m]\u001b[49m\u001b[43m,\u001b[49m\u001b[32;43m2\u001b[39;49m\u001b[43m)\u001b[49m\n",
      "\u001b[36mCell\u001b[39m\u001b[36m \u001b[39m\u001b[32mIn[2]\u001b[39m\u001b[32m, line 2\u001b[39m, in \u001b[36mdebug\u001b[39m\u001b[34m(string, k)\u001b[39m\n\u001b[32m      1\u001b[39m \u001b[38;5;28;01mdef\u001b[39;00m\u001b[38;5;250m \u001b[39m\u001b[34mdebug\u001b[39m(string, k):\n\u001b[32m----> \u001b[39m\u001b[32m2\u001b[39m     char_to_symbol_dict, symbol_to_k_tuple, sequence = \u001b[43mrepair\u001b[49m\u001b[43m(\u001b[49m\u001b[43mstring\u001b[49m\u001b[43m,\u001b[49m\u001b[43m \u001b[49m\u001b[43mk\u001b[49m\u001b[43m)\u001b[49m\n\u001b[32m      3\u001b[39m     \u001b[38;5;66;03m# print(char_to_symbol_dict, symbol_to_k_tuple, sequence)\u001b[39;00m\n\u001b[32m      4\u001b[39m     res = despair(char_to_symbol_dict, symbol_to_k_tuple, sequence)\n",
      "\u001b[36mFile \u001b[39m\u001b[32m/mnt/c/Users/tomek/Desktop/WORKSPACE/regex_compression/implementation/repair.py:422\u001b[39m, in \u001b[36mrepair\u001b[39m\u001b[34m(string, k)\u001b[39m\n\u001b[32m    420\u001b[39m \u001b[38;5;28;01mwhile\u001b[39;00m priority_queue[i]:\n\u001b[32m    421\u001b[39m     to_replace = priority_queue[i].pop()\n\u001b[32m--> \u001b[39m\u001b[32m422\u001b[39m     \u001b[43mreplace_active_k_tuple\u001b[49m\u001b[43m(\u001b[49m\u001b[43mpriority_queue\u001b[49m\u001b[43m,\u001b[49m\u001b[43m \u001b[49m\u001b[43mactive_k_tuples\u001b[49m\u001b[43m,\u001b[49m\u001b[43m \u001b[49m\u001b[43msequence\u001b[49m\u001b[43m,\u001b[49m\u001b[43m \u001b[49m\u001b[43mto_replace\u001b[49m\u001b[43m,\u001b[49m\u001b[43m \u001b[49m\u001b[43mnext_symbol\u001b[49m\u001b[43m,\u001b[49m\u001b[43m \u001b[49m\u001b[43mk\u001b[49m\u001b[43m)\u001b[49m\n\u001b[32m    423\u001b[39m     symbol_to_k_tuple[next_symbol] = to_replace\n\u001b[32m    424\u001b[39m     next_symbol += \u001b[32m1\u001b[39m\n",
      "\u001b[36mFile \u001b[39m\u001b[32m/mnt/c/Users/tomek/Desktop/WORKSPACE/regex_compression/implementation/repair.py:392\u001b[39m, in \u001b[36mreplace_active_k_tuple\u001b[39m\u001b[34m(priority_queue, active_k_tuples, sequence, k_tuple, new_symbol, k)\u001b[39m\n\u001b[32m    389\u001b[39m         priority_queue[active_k_tuples[changed].count].add(changed)\n\u001b[32m    390\u001b[39m         active_k_tuples[changed].orig_count = active_k_tuples[changed].count \n\u001b[32m--> \u001b[39m\u001b[32m392\u001b[39m \u001b[43mcheck_all_linking\u001b[49m\u001b[43m(\u001b[49m\u001b[43mactive_k_tuples\u001b[49m\u001b[43m,\u001b[49m\u001b[43m \u001b[49m\u001b[43msequence\u001b[49m\u001b[43m)\u001b[49m\n",
      "\u001b[36mFile \u001b[39m\u001b[32m/mnt/c/Users/tomek/Desktop/WORKSPACE/regex_compression/implementation/repair.py:237\u001b[39m, in \u001b[36mcheck_all_linking\u001b[39m\u001b[34m(active_k_tuples, sequence)\u001b[39m\n\u001b[32m    235\u001b[39m \u001b[38;5;28;01mdef\u001b[39;00m\u001b[38;5;250m \u001b[39m\u001b[34mcheck_all_linking\u001b[39m(active_k_tuples, sequence):\n\u001b[32m    236\u001b[39m     \u001b[38;5;28;01mfor\u001b[39;00m k_tuple \u001b[38;5;129;01min\u001b[39;00m active_k_tuples:\n\u001b[32m--> \u001b[39m\u001b[32m237\u001b[39m         \u001b[43mcheck_pairs\u001b[49m\u001b[43m(\u001b[49m\u001b[43mactive_k_tuples\u001b[49m\u001b[43m,\u001b[49m\u001b[43m \u001b[49m\u001b[43msequence\u001b[49m\u001b[43m,\u001b[49m\u001b[43m \u001b[49m\u001b[43mk_tuple\u001b[49m\u001b[43m)\u001b[49m\n\u001b[32m    238\u001b[39m         \u001b[38;5;28;01mif\u001b[39;00m active_k_tuples[k_tuple].count != \u001b[32m1\u001b[39m:\n\u001b[32m    239\u001b[39m             check_linking(active_k_tuples, sequence, k_tuple)\n",
      "\u001b[36mFile \u001b[39m\u001b[32m/mnt/c/Users/tomek/Desktop/WORKSPACE/regex_compression/implementation/repair.py:230\u001b[39m, in \u001b[36mcheck_pairs\u001b[39m\u001b[34m(active_k_tuples, sequence, k_tuple)\u001b[39m\n\u001b[32m    227\u001b[39m         pdb.set_trace()\n\u001b[32m    228\u001b[39m     node = sequence[node.prev_k_tuple]\n\u001b[32m--> \u001b[39m\u001b[32m230\u001b[39m \u001b[38;5;28;01mif\u001b[39;00m (sequence[\u001b[43mget_prev_index\u001b[49m\u001b[43m(\u001b[49m\u001b[43mnode\u001b[49m\u001b[43m)\u001b[49m].symbol, node.symbol != k_tuple) :\n\u001b[32m    231\u001b[39m         \u001b[38;5;28mprint\u001b[39m(\u001b[33m\"\u001b[39m\u001b[33mbad last ktuple!!!\u001b[39m\u001b[33m\"\u001b[39m)\n\u001b[32m    232\u001b[39m         \u001b[38;5;28;01mimport\u001b[39;00m\u001b[38;5;250m \u001b[39m\u001b[34;01mpdb\u001b[39;00m\n",
      "\u001b[31mTypeError\u001b[39m: get_prev_index() missing 1 required positional argument: 'node'"
     ]
    }
   ],
   "source": [
    "debug(txt[10_500:15_000],2)"
   ]
  },
  {
   "cell_type": "code",
   "execution_count": 11,
   "id": "afd3b796-0366-46a7-b522-ddc764ff0836",
   "metadata": {},
   "outputs": [
    {
     "ename": "KeyError",
     "evalue": "-1",
     "output_type": "error",
     "traceback": [
      "\u001b[31m---------------------------------------------------------------------------\u001b[39m",
      "\u001b[31mKeyError\u001b[39m                                  Traceback (most recent call last)",
      "\u001b[36mCell\u001b[39m\u001b[36m \u001b[39m\u001b[32mIn[11]\u001b[39m\u001b[32m, line 1\u001b[39m\n\u001b[32m----> \u001b[39m\u001b[32m1\u001b[39m \u001b[43mdebug\u001b[49m\u001b[43m(\u001b[49m\u001b[33;43m\"\u001b[39;49m\u001b[33;43maaaaaaaaaaaaaaa\u001b[39;49m\u001b[33;43m\"\u001b[39;49m\u001b[43m,\u001b[49m\u001b[32;43m2\u001b[39;49m\u001b[43m)\u001b[49m\n",
      "\u001b[36mCell\u001b[39m\u001b[36m \u001b[39m\u001b[32mIn[2]\u001b[39m\u001b[32m, line 4\u001b[39m, in \u001b[36mdebug\u001b[39m\u001b[34m(string, k)\u001b[39m\n\u001b[32m      2\u001b[39m char_to_symbol_dict, symbol_to_k_tuple, sequence = repair(string, k)\n\u001b[32m      3\u001b[39m \u001b[38;5;66;03m# print(char_to_symbol_dict, symbol_to_k_tuple, sequence)\u001b[39;00m\n\u001b[32m----> \u001b[39m\u001b[32m4\u001b[39m res = \u001b[43mdespair\u001b[49m\u001b[43m(\u001b[49m\u001b[43mchar_to_symbol_dict\u001b[49m\u001b[43m,\u001b[49m\u001b[43m \u001b[49m\u001b[43msymbol_to_k_tuple\u001b[49m\u001b[43m,\u001b[49m\u001b[43m \u001b[49m\u001b[43msequence\u001b[49m\u001b[43m)\u001b[49m\n\u001b[32m      5\u001b[39m \u001b[38;5;66;03m# print(res)\u001b[39;00m\n\u001b[32m      6\u001b[39m \u001b[38;5;28mprint\u001b[39m(res == string)\n",
      "\u001b[36mFile \u001b[39m\u001b[32m/mnt/c/Users/tomek/Desktop/WORKSPACE/regex_compression/implementation/repair.py:386\u001b[39m, in \u001b[36mdespair\u001b[39m\u001b[34m(char_to_symbol_dict, symbol_to_k_tuple, sequence)\u001b[39m\n\u001b[32m    384\u001b[39m             stack.extend(\u001b[38;5;28mreversed\u001b[39m(symbol_to_k_tuple[x]))\n\u001b[32m    385\u001b[39m         \u001b[38;5;28;01melse\u001b[39;00m:\n\u001b[32m--> \u001b[39m\u001b[32m386\u001b[39m             res += \u001b[43msymbol_to_char_dict\u001b[49m\u001b[43m[\u001b[49m\u001b[43mx\u001b[49m\u001b[43m]\u001b[49m\n\u001b[32m    387\u001b[39m \u001b[38;5;28;01mreturn\u001b[39;00m res\n",
      "\u001b[31mKeyError\u001b[39m: -1"
     ]
    }
   ],
   "source": [
    "debug(\"aaaaaaaaaaaaaaa\",2)"
   ]
  },
  {
   "cell_type": "code",
   "execution_count": null,
   "id": "97889f3f-c819-4c5c-bffa-5b1c280a82af",
   "metadata": {},
   "outputs": [],
   "source": []
  }
 ],
 "metadata": {
  "kernelspec": {
   "display_name": "Python 3 (ipykernel)",
   "language": "python",
   "name": "python3"
  },
  "language_info": {
   "codemirror_mode": {
    "name": "ipython",
    "version": 3
   },
   "file_extension": ".py",
   "mimetype": "text/x-python",
   "name": "python",
   "nbconvert_exporter": "python",
   "pygments_lexer": "ipython3",
   "version": "3.12.3"
  }
 },
 "nbformat": 4,
 "nbformat_minor": 5
}
