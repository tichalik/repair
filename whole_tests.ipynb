{
 "cells": [
  {
   "cell_type": "code",
   "execution_count": 1,
   "id": "0f190c52-02db-40c0-a7c7-df28ac3026de",
   "metadata": {},
   "outputs": [
    {
     "name": "stdout",
     "output_type": "stream",
     "text": [
      "[NbConvertApp] Converting notebook repair.ipynb to script\n",
      "[NbConvertApp] Writing 11708 bytes to repair.py\n"
     ]
    }
   ],
   "source": [
    "!jupyter nbconvert --to script repair.ipynb\n",
    "from repair import *"
   ]
  },
  {
   "cell_type": "code",
   "execution_count": 2,
   "id": "4a3aa22e-43fc-421d-8a68-eccefdb468fc",
   "metadata": {},
   "outputs": [],
   "source": [
    "def debug(string, k):\n",
    "    char_to_symbol_dict, symbol_to_k_tuple, sequence = repair(string, k)\n",
    "    # print(char_to_symbol_dict, symbol_to_k_tuple, sequence)\n",
    "    res = despair(char_to_symbol_dict, symbol_to_k_tuple, sequence)\n",
    "    # print(res)\n",
    "    print(res == string)"
   ]
  },
  {
   "cell_type": "code",
   "execution_count": 3,
   "id": "245556c3-9bfb-445d-8023-02ce491194ed",
   "metadata": {},
   "outputs": [
    {
     "name": "stdout",
     "output_type": "stream",
     "text": [
      "True\n"
     ]
    }
   ],
   "source": [
    "debug(\"012012\",2)"
   ]
  },
  {
   "cell_type": "code",
   "execution_count": 10,
   "id": "699cfb26-9acf-48b2-82ea-200b7c0f8a57",
   "metadata": {},
   "outputs": [
    {
     "name": "stdout",
     "output_type": "stream",
     "text": [
      "True\n"
     ]
    }
   ],
   "source": [
    "debug(\"3218AAAAA0216AAAAA2216AAAAA4219AAAAA7216AAAAA5216AAAAA5216AAAAA1216AAAAA\",2)"
   ]
  },
  {
   "cell_type": "code",
   "execution_count": 5,
   "id": "d046b1dd-76ab-49b0-a8db-d0f34f11cb33",
   "metadata": {},
   "outputs": [
    {
     "name": "stdout",
     "output_type": "stream",
     "text": [
      "2,318,550\n"
     ]
    }
   ],
   "source": [
    "datapath = \"\"\n",
    "f = open(\"data/dq_eng.txt\", \"r\")\n",
    "txt = f.read()\n",
    "f.close()\n",
    "\n",
    "print('{:,}'.format(len(txt)) )"
   ]
  },
  {
   "cell_type": "code",
   "execution_count": 8,
   "id": "210d37af-4a5b-4f59-baab-0580a2c9362f",
   "metadata": {},
   "outputs": [
    {
     "name": "stdout",
     "output_type": "stream",
     "text": [
      "4253 32 36 1 19\n",
      "4160 51 36 1 6\n",
      "3893 36 36 1 6\n",
      "3576 28 36 1 40\n",
      "3262 7 36 1 6\n",
      "3139 5 36 1 6\n",
      "3126 5 36 1 6\n",
      "2530 1 36 1 6\n",
      "2516 51 36 1 6\n",
      "1958 35 36 1 40\n",
      "1703 9 36 1 6\n",
      "1692 12 36 1 6\n",
      "1104 26 36 1 6\n",
      "956 34 36 1 38\n",
      "847 36 36 1 0\n",
      "739 26 36 1 6\n",
      "671 12 36 1 56\n",
      "602 20 36 1 6\n",
      "383 34 36 1 19\n",
      "130 12 36 1 6\n",
      "21 12 36 1 56\n"
     ]
    },
    {
     "ename": "KeyError",
     "evalue": "(-2, 61)",
     "output_type": "error",
     "traceback": [
      "\u001b[31m---------------------------------------------------------------------------\u001b[39m",
      "\u001b[31mKeyError\u001b[39m                                  Traceback (most recent call last)",
      "\u001b[36mCell\u001b[39m\u001b[36m \u001b[39m\u001b[32mIn[8]\u001b[39m\u001b[32m, line 1\u001b[39m\n\u001b[32m----> \u001b[39m\u001b[32m1\u001b[39m \u001b[43mdebug\u001b[49m\u001b[43m(\u001b[49m\u001b[43mtxt\u001b[49m\u001b[43m[\u001b[49m\u001b[32;43m10_500\u001b[39;49m\u001b[43m:\u001b[49m\u001b[32;43m15_000\u001b[39;49m\u001b[43m]\u001b[49m\u001b[43m,\u001b[49m\u001b[32;43m2\u001b[39;49m\u001b[43m)\u001b[49m\n",
      "\u001b[36mCell\u001b[39m\u001b[36m \u001b[39m\u001b[32mIn[2]\u001b[39m\u001b[32m, line 2\u001b[39m, in \u001b[36mdebug\u001b[39m\u001b[34m(string, k)\u001b[39m\n\u001b[32m      1\u001b[39m \u001b[38;5;28;01mdef\u001b[39;00m\u001b[38;5;250m \u001b[39m\u001b[34mdebug\u001b[39m(string, k):\n\u001b[32m----> \u001b[39m\u001b[32m2\u001b[39m     char_to_symbol_dict, symbol_to_k_tuple, sequence = \u001b[43mrepair\u001b[49m\u001b[43m(\u001b[49m\u001b[43mstring\u001b[49m\u001b[43m,\u001b[49m\u001b[43m \u001b[49m\u001b[43mk\u001b[49m\u001b[43m)\u001b[49m\n\u001b[32m      3\u001b[39m     \u001b[38;5;66;03m# print(char_to_symbol_dict, symbol_to_k_tuple, sequence)\u001b[39;00m\n\u001b[32m      4\u001b[39m     res = despair(char_to_symbol_dict, symbol_to_k_tuple, sequence)\n",
      "\u001b[36mFile \u001b[39m\u001b[32m/mnt/c/Users/tomek/Desktop/WORKSPACE/regex_compression/implementation/repair.py:370\u001b[39m, in \u001b[36mrepair\u001b[39m\u001b[34m(string, k)\u001b[39m\n\u001b[32m    368\u001b[39m \u001b[38;5;28;01mwhile\u001b[39;00m priority_queue[i]:\n\u001b[32m    369\u001b[39m     to_replace = priority_queue[i].pop()\n\u001b[32m--> \u001b[39m\u001b[32m370\u001b[39m     \u001b[43mreplace_active_k_tuple\u001b[49m\u001b[43m(\u001b[49m\u001b[43mpriority_queue\u001b[49m\u001b[43m,\u001b[49m\u001b[43m \u001b[49m\u001b[43mactive_k_tuples\u001b[49m\u001b[43m,\u001b[49m\u001b[43m \u001b[49m\u001b[43msequence\u001b[49m\u001b[43m,\u001b[49m\u001b[43m \u001b[49m\u001b[43mto_replace\u001b[49m\u001b[43m,\u001b[49m\u001b[43m \u001b[49m\u001b[43mnext_symbol\u001b[49m\u001b[43m,\u001b[49m\u001b[43m \u001b[49m\u001b[43mk\u001b[49m\u001b[43m)\u001b[49m\n\u001b[32m    371\u001b[39m     symbol_to_k_tuple[next_symbol] = to_replace\n\u001b[32m    372\u001b[39m     next_symbol += \u001b[32m1\u001b[39m\n",
      "\u001b[36mFile \u001b[39m\u001b[32m/mnt/c/Users/tomek/Desktop/WORKSPACE/regex_compression/implementation/repair.py:231\u001b[39m, in \u001b[36mreplace_active_k_tuple\u001b[39m\u001b[34m(priority_queue, active_k_tuples, sequence, k_tuple, new_symbol, k)\u001b[39m\n\u001b[32m    228\u001b[39m changed_k_tuples.add(CD)\n\u001b[32m    229\u001b[39m changed_k_tuples.add(ED)\n\u001b[32m--> \u001b[39m\u001b[32m231\u001b[39m a_AB = \u001b[43mactive_k_tuples\u001b[49m\u001b[43m[\u001b[49m\u001b[43mAB\u001b[49m\u001b[43m]\u001b[49m\n\u001b[32m    232\u001b[39m a_BC = active_k_tuples[BC]\n\u001b[32m    233\u001b[39m a_CD = active_k_tuples[CD]\n",
      "\u001b[31mKeyError\u001b[39m: (-2, 61)"
     ]
    }
   ],
   "source": [
    "debug(txt[10_500:15_000],2)"
   ]
  },
  {
   "cell_type": "code",
   "execution_count": 11,
   "id": "afd3b796-0366-46a7-b522-ddc764ff0836",
   "metadata": {},
   "outputs": [
    {
     "ename": "KeyError",
     "evalue": "-1",
     "output_type": "error",
     "traceback": [
      "\u001b[31m---------------------------------------------------------------------------\u001b[39m",
      "\u001b[31mKeyError\u001b[39m                                  Traceback (most recent call last)",
      "\u001b[36mCell\u001b[39m\u001b[36m \u001b[39m\u001b[32mIn[11]\u001b[39m\u001b[32m, line 1\u001b[39m\n\u001b[32m----> \u001b[39m\u001b[32m1\u001b[39m \u001b[43mdebug\u001b[49m\u001b[43m(\u001b[49m\u001b[33;43m\"\u001b[39;49m\u001b[33;43maaaaaaaaaaaaaaa\u001b[39;49m\u001b[33;43m\"\u001b[39;49m\u001b[43m,\u001b[49m\u001b[32;43m2\u001b[39;49m\u001b[43m)\u001b[49m\n",
      "\u001b[36mCell\u001b[39m\u001b[36m \u001b[39m\u001b[32mIn[2]\u001b[39m\u001b[32m, line 4\u001b[39m, in \u001b[36mdebug\u001b[39m\u001b[34m(string, k)\u001b[39m\n\u001b[32m      2\u001b[39m char_to_symbol_dict, symbol_to_k_tuple, sequence = repair(string, k)\n\u001b[32m      3\u001b[39m \u001b[38;5;66;03m# print(char_to_symbol_dict, symbol_to_k_tuple, sequence)\u001b[39;00m\n\u001b[32m----> \u001b[39m\u001b[32m4\u001b[39m res = \u001b[43mdespair\u001b[49m\u001b[43m(\u001b[49m\u001b[43mchar_to_symbol_dict\u001b[49m\u001b[43m,\u001b[49m\u001b[43m \u001b[49m\u001b[43msymbol_to_k_tuple\u001b[49m\u001b[43m,\u001b[49m\u001b[43m \u001b[49m\u001b[43msequence\u001b[49m\u001b[43m)\u001b[49m\n\u001b[32m      5\u001b[39m \u001b[38;5;66;03m# print(res)\u001b[39;00m\n\u001b[32m      6\u001b[39m \u001b[38;5;28mprint\u001b[39m(res == string)\n",
      "\u001b[36mFile \u001b[39m\u001b[32m/mnt/c/Users/tomek/Desktop/WORKSPACE/regex_compression/implementation/repair.py:386\u001b[39m, in \u001b[36mdespair\u001b[39m\u001b[34m(char_to_symbol_dict, symbol_to_k_tuple, sequence)\u001b[39m\n\u001b[32m    384\u001b[39m             stack.extend(\u001b[38;5;28mreversed\u001b[39m(symbol_to_k_tuple[x]))\n\u001b[32m    385\u001b[39m         \u001b[38;5;28;01melse\u001b[39;00m:\n\u001b[32m--> \u001b[39m\u001b[32m386\u001b[39m             res += \u001b[43msymbol_to_char_dict\u001b[49m\u001b[43m[\u001b[49m\u001b[43mx\u001b[49m\u001b[43m]\u001b[49m\n\u001b[32m    387\u001b[39m \u001b[38;5;28;01mreturn\u001b[39;00m res\n",
      "\u001b[31mKeyError\u001b[39m: -1"
     ]
    }
   ],
   "source": [
    "debug(\"aaaaaaaaaaaaaaa\",2)"
   ]
  },
  {
   "cell_type": "code",
   "execution_count": null,
   "id": "97889f3f-c819-4c5c-bffa-5b1c280a82af",
   "metadata": {},
   "outputs": [],
   "source": []
  }
 ],
 "metadata": {
  "kernelspec": {
   "display_name": "Python 3 (ipykernel)",
   "language": "python",
   "name": "python3"
  },
  "language_info": {
   "codemirror_mode": {
    "name": "ipython",
    "version": 3
   },
   "file_extension": ".py",
   "mimetype": "text/x-python",
   "name": "python",
   "nbconvert_exporter": "python",
   "pygments_lexer": "ipython3",
   "version": "3.12.3"
  }
 },
 "nbformat": 4,
 "nbformat_minor": 5
}
