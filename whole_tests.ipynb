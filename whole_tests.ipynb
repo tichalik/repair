{
 "cells": [
  {
   "cell_type": "code",
   "execution_count": 1,
   "id": "0f190c52-02db-40c0-a7c7-df28ac3026de",
   "metadata": {},
   "outputs": [
    {
     "name": "stdout",
     "output_type": "stream",
     "text": [
      "[NbConvertApp] Converting notebook repair.ipynb to script\n",
      "[NbConvertApp] Writing 15315 bytes to repair.py\n"
     ]
    }
   ],
   "source": [
    "!jupyter nbconvert --to script repair.ipynb\n",
    "from repair import *"
   ]
  },
  {
   "cell_type": "code",
   "execution_count": 2,
   "id": "4a3aa22e-43fc-421d-8a68-eccefdb468fc",
   "metadata": {},
   "outputs": [],
   "source": [
    "def debug(string, k):\n",
    "    char_to_symbol_dict, symbol_to_k_tuple, sequence = repair(string, k)\n",
    "    # print(char_to_symbol_dict, symbol_to_k_tuple, sequence)\n",
    "    res = despair(char_to_symbol_dict, symbol_to_k_tuple, sequence)\n",
    "    # print(res)\n",
    "    print(res == string)"
   ]
  },
  {
   "cell_type": "code",
   "execution_count": 3,
   "id": "245556c3-9bfb-445d-8023-02ce491194ed",
   "metadata": {},
   "outputs": [
    {
     "name": "stdout",
     "output_type": "stream",
     "text": [
      "True\n"
     ]
    }
   ],
   "source": [
    "debug(\"034123434\",2)"
   ]
  },
  {
   "cell_type": "code",
   "execution_count": 4,
   "id": "699cfb26-9acf-48b2-82ea-200b7c0f8a57",
   "metadata": {},
   "outputs": [],
   "source": [
    "# debug(\"3218AAAAA0216AAAAA2216AAAAA4219AAAAA7216AAAAA5216AAAAA5216AAAAA1216AAAAA\",2)"
   ]
  },
  {
   "cell_type": "code",
   "execution_count": 5,
   "id": "d046b1dd-76ab-49b0-a8db-d0f34f11cb33",
   "metadata": {},
   "outputs": [
    {
     "name": "stdout",
     "output_type": "stream",
     "text": [
      "2,318,550\n"
     ]
    }
   ],
   "source": [
    "datapath = \"\"\n",
    "f = open(\"data/dq_eng.txt\", \"r\")\n",
    "txt = f.read()\n",
    "f.close()\n",
    "\n",
    "print('{:,}'.format(len(txt)) )"
   ]
  },
  {
   "cell_type": "code",
   "execution_count": 7,
   "id": "210d37af-4a5b-4f59-baab-0580a2c9362f",
   "metadata": {},
   "outputs": [
    {
     "name": "stdout",
     "output_type": "stream",
     "text": [
      "True\n"
     ]
    }
   ],
   "source": [
    "debug(txt,2)"
   ]
  },
  {
   "cell_type": "code",
   "execution_count": 8,
   "id": "afd3b796-0366-46a7-b522-ddc764ff0836",
   "metadata": {},
   "outputs": [
    {
     "name": "stdout",
     "output_type": "stream",
     "text": [
      "True\n"
     ]
    }
   ],
   "source": [
    "debug(\"aaaaaaaaaaaaaaa\",2)"
   ]
  },
  {
   "cell_type": "code",
   "execution_count": null,
   "id": "97889f3f-c819-4c5c-bffa-5b1c280a82af",
   "metadata": {},
   "outputs": [],
   "source": []
  }
 ],
 "metadata": {
  "kernelspec": {
   "display_name": "Python 3 (ipykernel)",
   "language": "python",
   "name": "python3"
  },
  "language_info": {
   "codemirror_mode": {
    "name": "ipython",
    "version": 3
   },
   "file_extension": ".py",
   "mimetype": "text/x-python",
   "name": "python",
   "nbconvert_exporter": "python",
   "pygments_lexer": "ipython3",
   "version": "3.12.3"
  }
 },
 "nbformat": 4,
 "nbformat_minor": 5
}
